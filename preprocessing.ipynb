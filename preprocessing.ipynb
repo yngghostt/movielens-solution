{
 "cells": [
  {
   "cell_type": "markdown",
   "metadata": {},
   "source": [
    "# <center>Рекомендательная система на основе эмбеддингов для датасета MovieLens</center>"
   ]
  },
  {
   "cell_type": "markdown",
   "metadata": {},
   "source": [
    "## Первичный анализ и предобработка данных"
   ]
  },
  {
   "cell_type": "markdown",
   "metadata": {},
   "source": [
    "### Импорт библиотек"
   ]
  },
  {
   "cell_type": "code",
   "execution_count": 1,
   "metadata": {
    "_cell_guid": "b1076dfc-b9ad-4769-8c92-a6c4dae69d19",
    "_uuid": "8f2839f25d086af736a60e9eeb907d3b93b6e0e5",
    "execution": {
     "iopub.execute_input": "2023-05-06T23:06:53.298634Z",
     "iopub.status.busy": "2023-05-06T23:06:53.297943Z",
     "iopub.status.idle": "2023-05-06T23:06:53.333273Z",
     "shell.execute_reply": "2023-05-06T23:06:53.332329Z",
     "shell.execute_reply.started": "2023-05-06T23:06:53.298333Z"
    }
   },
   "outputs": [],
   "source": [
    "import numpy as np\n",
    "import pandas as pd\n",
    "\n",
    "import matplotlib.pyplot as plt\n",
    "import seaborn as sns\n",
    "%matplotlib inline"
   ]
  },
  {
   "cell_type": "code",
   "execution_count": 2,
   "metadata": {
    "execution": {
     "iopub.execute_input": "2023-05-06T23:06:53.336124Z",
     "iopub.status.busy": "2023-05-06T23:06:53.335181Z",
     "iopub.status.idle": "2023-05-06T23:06:53.340791Z",
     "shell.execute_reply": "2023-05-06T23:06:53.339282Z",
     "shell.execute_reply.started": "2023-05-06T23:06:53.336089Z"
    }
   },
   "outputs": [],
   "source": [
    "import re\n",
    "import tqdm"
   ]
  },
  {
   "cell_type": "markdown",
   "metadata": {},
   "source": [
    "### Загрузка данных"
   ]
  },
  {
   "cell_type": "code",
   "execution_count": 3,
   "metadata": {
    "execution": {
     "iopub.execute_input": "2023-05-06T23:06:53.364368Z",
     "iopub.status.busy": "2023-05-06T23:06:53.363755Z",
     "iopub.status.idle": "2023-05-06T23:06:53.537309Z",
     "shell.execute_reply": "2023-05-06T23:06:53.536203Z",
     "shell.execute_reply.started": "2023-05-06T23:06:53.364322Z"
    }
   },
   "outputs": [
    {
     "data": {
      "text/html": [
       "<div>\n",
       "<style scoped>\n",
       "    .dataframe tbody tr th:only-of-type {\n",
       "        vertical-align: middle;\n",
       "    }\n",
       "\n",
       "    .dataframe tbody tr th {\n",
       "        vertical-align: top;\n",
       "    }\n",
       "\n",
       "    .dataframe thead th {\n",
       "        text-align: right;\n",
       "    }\n",
       "</style>\n",
       "<table border=\"1\" class=\"dataframe\">\n",
       "  <thead>\n",
       "    <tr style=\"text-align: right;\">\n",
       "      <th></th>\n",
       "      <th>title</th>\n",
       "      <th>genres</th>\n",
       "    </tr>\n",
       "    <tr>\n",
       "      <th>movieId</th>\n",
       "      <th></th>\n",
       "      <th></th>\n",
       "    </tr>\n",
       "  </thead>\n",
       "  <tbody>\n",
       "    <tr>\n",
       "      <th>1</th>\n",
       "      <td>Toy Story (1995)</td>\n",
       "      <td>Adventure|Animation|Children|Comedy|Fantasy</td>\n",
       "    </tr>\n",
       "    <tr>\n",
       "      <th>2</th>\n",
       "      <td>Jumanji (1995)</td>\n",
       "      <td>Adventure|Children|Fantasy</td>\n",
       "    </tr>\n",
       "    <tr>\n",
       "      <th>3</th>\n",
       "      <td>Grumpier Old Men (1995)</td>\n",
       "      <td>Comedy|Romance</td>\n",
       "    </tr>\n",
       "    <tr>\n",
       "      <th>4</th>\n",
       "      <td>Waiting to Exhale (1995)</td>\n",
       "      <td>Comedy|Drama|Romance</td>\n",
       "    </tr>\n",
       "    <tr>\n",
       "      <th>5</th>\n",
       "      <td>Father of the Bride Part II (1995)</td>\n",
       "      <td>Comedy</td>\n",
       "    </tr>\n",
       "  </tbody>\n",
       "</table>\n",
       "</div>"
      ],
      "text/plain": [
       "                                      title  \\\n",
       "movieId                                       \n",
       "1                          Toy Story (1995)   \n",
       "2                            Jumanji (1995)   \n",
       "3                   Grumpier Old Men (1995)   \n",
       "4                  Waiting to Exhale (1995)   \n",
       "5        Father of the Bride Part II (1995)   \n",
       "\n",
       "                                              genres  \n",
       "movieId                                               \n",
       "1        Adventure|Animation|Children|Comedy|Fantasy  \n",
       "2                         Adventure|Children|Fantasy  \n",
       "3                                     Comedy|Romance  \n",
       "4                               Comedy|Drama|Romance  \n",
       "5                                             Comedy  "
      ]
     },
     "execution_count": 3,
     "metadata": {},
     "output_type": "execute_result"
    }
   ],
   "source": [
    "movies_df = pd.read_csv(\"ml-latest\\movies.csv\", index_col='movieId')\n",
    "movies_df.head()"
   ]
  },
  {
   "cell_type": "code",
   "execution_count": 4,
   "metadata": {
    "execution": {
     "iopub.execute_input": "2023-05-06T23:06:53.540853Z",
     "iopub.status.busy": "2023-05-06T23:06:53.539361Z",
     "iopub.status.idle": "2023-05-06T23:06:53.545565Z",
     "shell.execute_reply": "2023-05-06T23:06:53.544404Z",
     "shell.execute_reply.started": "2023-05-06T23:06:53.540808Z"
    }
   },
   "outputs": [],
   "source": [
    "#tags_df = pd.read_csv('/kaggle/input/grouplens-2018/ml-latest/tags.csv')\n",
    "#tags_df.head()"
   ]
  },
  {
   "cell_type": "code",
   "execution_count": 4,
   "metadata": {
    "execution": {
     "iopub.execute_input": "2023-05-06T23:06:53.547394Z",
     "iopub.status.busy": "2023-05-06T23:06:53.546948Z",
     "iopub.status.idle": "2023-05-06T23:07:05.365975Z",
     "shell.execute_reply": "2023-05-06T23:07:05.361420Z",
     "shell.execute_reply.started": "2023-05-06T23:06:53.547355Z"
    },
    "scrolled": true
   },
   "outputs": [
    {
     "data": {
      "text/html": [
       "<div>\n",
       "<style scoped>\n",
       "    .dataframe tbody tr th:only-of-type {\n",
       "        vertical-align: middle;\n",
       "    }\n",
       "\n",
       "    .dataframe tbody tr th {\n",
       "        vertical-align: top;\n",
       "    }\n",
       "\n",
       "    .dataframe thead th {\n",
       "        text-align: right;\n",
       "    }\n",
       "</style>\n",
       "<table border=\"1\" class=\"dataframe\">\n",
       "  <thead>\n",
       "    <tr style=\"text-align: right;\">\n",
       "      <th></th>\n",
       "      <th>userId</th>\n",
       "      <th>movieId</th>\n",
       "      <th>rating</th>\n",
       "      <th>timestamp</th>\n",
       "    </tr>\n",
       "  </thead>\n",
       "  <tbody>\n",
       "    <tr>\n",
       "      <th>0</th>\n",
       "      <td>1</td>\n",
       "      <td>307</td>\n",
       "      <td>3.5</td>\n",
       "      <td>1256677221</td>\n",
       "    </tr>\n",
       "    <tr>\n",
       "      <th>1</th>\n",
       "      <td>1</td>\n",
       "      <td>481</td>\n",
       "      <td>3.5</td>\n",
       "      <td>1256677456</td>\n",
       "    </tr>\n",
       "    <tr>\n",
       "      <th>2</th>\n",
       "      <td>1</td>\n",
       "      <td>1091</td>\n",
       "      <td>1.5</td>\n",
       "      <td>1256677471</td>\n",
       "    </tr>\n",
       "    <tr>\n",
       "      <th>3</th>\n",
       "      <td>1</td>\n",
       "      <td>1257</td>\n",
       "      <td>4.5</td>\n",
       "      <td>1256677460</td>\n",
       "    </tr>\n",
       "    <tr>\n",
       "      <th>4</th>\n",
       "      <td>1</td>\n",
       "      <td>1449</td>\n",
       "      <td>4.5</td>\n",
       "      <td>1256677264</td>\n",
       "    </tr>\n",
       "  </tbody>\n",
       "</table>\n",
       "</div>"
      ],
      "text/plain": [
       "   userId  movieId  rating   timestamp\n",
       "0       1      307     3.5  1256677221\n",
       "1       1      481     3.5  1256677456\n",
       "2       1     1091     1.5  1256677471\n",
       "3       1     1257     4.5  1256677460\n",
       "4       1     1449     4.5  1256677264"
      ]
     },
     "execution_count": 4,
     "metadata": {},
     "output_type": "execute_result"
    }
   ],
   "source": [
    "ratings_df = pd.read_csv(r\"ml-latest\\ratings.csv\").iloc[:1_000_000]\n",
    "ratings_df.head()"
   ]
  },
  {
   "cell_type": "code",
   "execution_count": 5,
   "metadata": {
    "execution": {
     "iopub.status.busy": "2023-05-06T23:07:05.366785Z",
     "iopub.status.idle": "2023-05-06T23:07:05.367179Z",
     "shell.execute_reply": "2023-05-06T23:07:05.367009Z",
     "shell.execute_reply.started": "2023-05-06T23:07:05.366991Z"
    }
   },
   "outputs": [
    {
     "name": "stdout",
     "output_type": "stream",
     "text": [
      "<class 'pandas.core.frame.DataFrame'>\n",
      "RangeIndex: 1000000 entries, 0 to 999999\n",
      "Data columns (total 4 columns):\n",
      " #   Column     Non-Null Count    Dtype  \n",
      "---  ------     --------------    -----  \n",
      " 0   userId     1000000 non-null  int64  \n",
      " 1   movieId    1000000 non-null  int64  \n",
      " 2   rating     1000000 non-null  float64\n",
      " 3   timestamp  1000000 non-null  int64  \n",
      "dtypes: float64(1), int64(3)\n",
      "memory usage: 30.5 MB\n"
     ]
    }
   ],
   "source": [
    "ratings_df.info()"
   ]
  },
  {
   "cell_type": "markdown",
   "metadata": {},
   "source": [
    "### Обработка датасета с фильмами"
   ]
  },
  {
   "cell_type": "code",
   "execution_count": 6,
   "metadata": {
    "execution": {
     "iopub.status.busy": "2023-05-06T23:07:05.368362Z",
     "iopub.status.idle": "2023-05-06T23:07:05.368871Z",
     "shell.execute_reply": "2023-05-06T23:07:05.368635Z",
     "shell.execute_reply.started": "2023-05-06T23:07:05.368610Z"
    }
   },
   "outputs": [],
   "source": [
    "genres_list = ['Action', 'Adventure','Animation',\"Children\", 'Comedy', 'Crime', 'Documentary', 'Drama', 'Fantasy', 'Film-Noir', 'Horror', 'Musical', \n",
    "               'Mystery', 'Romance', 'Sci-Fi', 'Thriller', 'War', 'Western', '(no genres listed)', 'IMAX']"
   ]
  },
  {
   "cell_type": "code",
   "execution_count": 7,
   "metadata": {
    "execution": {
     "iopub.status.busy": "2023-05-06T23:07:05.370426Z",
     "iopub.status.idle": "2023-05-06T23:07:05.371443Z",
     "shell.execute_reply": "2023-05-06T23:07:05.371173Z",
     "shell.execute_reply.started": "2023-05-06T23:07:05.371147Z"
    }
   },
   "outputs": [],
   "source": [
    "movies_df['year'] = 0\n",
    "movies_df['year'] = movies_df['year'].astype(int)\n",
    "\n",
    "for genre in genres_list:\n",
    "    movies_df[genre] = 0\n",
    "    movies_df[genre] = movies_df[genre].astype(int)"
   ]
  },
  {
   "cell_type": "markdown",
   "metadata": {},
   "source": [
    "Применение one-hot one hot encoding для кодирования жанров"
   ]
  },
  {
   "cell_type": "code",
   "execution_count": 8,
   "metadata": {
    "execution": {
     "iopub.status.busy": "2023-05-06T23:07:05.372660Z",
     "iopub.status.idle": "2023-05-06T23:07:05.373135Z",
     "shell.execute_reply": "2023-05-06T23:07:05.372913Z",
     "shell.execute_reply.started": "2023-05-06T23:07:05.372889Z"
    }
   },
   "outputs": [
    {
     "name": "stderr",
     "output_type": "stream",
     "text": [
      "58098it [00:24, 2405.74it/s]\n"
     ]
    }
   ],
   "source": [
    "for index, row in tqdm.tqdm(movies_df.iterrows()):\n",
    "    movieId = index\n",
    "    title = row.title\n",
    "    matcher = re.compile('\\s*\\(\\d{4}\\)')\n",
    "    if matcher.search(title) is not None:\n",
    "        parenthesis_year = matcher.search(title).group(0)\n",
    "        matcher = re.compile('\\s*\\d{4}')\n",
    "        year = matcher.search(parenthesis_year).group(0)\n",
    "        movies_df.loc[index, 'year'] = int(year)\n",
    "        movies_df.loc[index, 'title'] = re.sub(r'\\s*\\(\\d{4}\\)', \"\", title)\n",
    "    \n",
    "    try:\n",
    "        genres = row.genres.split('|') \n",
    "    except Exception:\n",
    "        genres = list(row.genres)\n",
    "    \n",
    "    for genre in genres:\n",
    "        movies_df.loc[index, genre] = 1\n",
    "    "
   ]
  },
  {
   "cell_type": "code",
   "execution_count": 9,
   "metadata": {
    "execution": {
     "iopub.status.busy": "2023-05-06T23:07:05.374591Z",
     "iopub.status.idle": "2023-05-06T23:07:05.375472Z",
     "shell.execute_reply": "2023-05-06T23:07:05.375202Z",
     "shell.execute_reply.started": "2023-05-06T23:07:05.375171Z"
    }
   },
   "outputs": [
    {
     "data": {
      "text/html": [
       "<div>\n",
       "<style scoped>\n",
       "    .dataframe tbody tr th:only-of-type {\n",
       "        vertical-align: middle;\n",
       "    }\n",
       "\n",
       "    .dataframe tbody tr th {\n",
       "        vertical-align: top;\n",
       "    }\n",
       "\n",
       "    .dataframe thead th {\n",
       "        text-align: right;\n",
       "    }\n",
       "</style>\n",
       "<table border=\"1\" class=\"dataframe\">\n",
       "  <thead>\n",
       "    <tr style=\"text-align: right;\">\n",
       "      <th></th>\n",
       "      <th>title</th>\n",
       "      <th>year</th>\n",
       "      <th>Action</th>\n",
       "      <th>Adventure</th>\n",
       "      <th>Animation</th>\n",
       "      <th>Children</th>\n",
       "      <th>Comedy</th>\n",
       "      <th>Crime</th>\n",
       "      <th>Documentary</th>\n",
       "      <th>Drama</th>\n",
       "      <th>...</th>\n",
       "      <th>Horror</th>\n",
       "      <th>Musical</th>\n",
       "      <th>Mystery</th>\n",
       "      <th>Romance</th>\n",
       "      <th>Sci-Fi</th>\n",
       "      <th>Thriller</th>\n",
       "      <th>War</th>\n",
       "      <th>Western</th>\n",
       "      <th>(no genres listed)</th>\n",
       "      <th>IMAX</th>\n",
       "    </tr>\n",
       "    <tr>\n",
       "      <th>movieId</th>\n",
       "      <th></th>\n",
       "      <th></th>\n",
       "      <th></th>\n",
       "      <th></th>\n",
       "      <th></th>\n",
       "      <th></th>\n",
       "      <th></th>\n",
       "      <th></th>\n",
       "      <th></th>\n",
       "      <th></th>\n",
       "      <th></th>\n",
       "      <th></th>\n",
       "      <th></th>\n",
       "      <th></th>\n",
       "      <th></th>\n",
       "      <th></th>\n",
       "      <th></th>\n",
       "      <th></th>\n",
       "      <th></th>\n",
       "      <th></th>\n",
       "      <th></th>\n",
       "    </tr>\n",
       "  </thead>\n",
       "  <tbody>\n",
       "    <tr>\n",
       "      <th>1</th>\n",
       "      <td>Toy Story</td>\n",
       "      <td>1995</td>\n",
       "      <td>0</td>\n",
       "      <td>1</td>\n",
       "      <td>1</td>\n",
       "      <td>1</td>\n",
       "      <td>1</td>\n",
       "      <td>0</td>\n",
       "      <td>0</td>\n",
       "      <td>0</td>\n",
       "      <td>...</td>\n",
       "      <td>0</td>\n",
       "      <td>0</td>\n",
       "      <td>0</td>\n",
       "      <td>0</td>\n",
       "      <td>0</td>\n",
       "      <td>0</td>\n",
       "      <td>0</td>\n",
       "      <td>0</td>\n",
       "      <td>0</td>\n",
       "      <td>0</td>\n",
       "    </tr>\n",
       "    <tr>\n",
       "      <th>2</th>\n",
       "      <td>Jumanji</td>\n",
       "      <td>1995</td>\n",
       "      <td>0</td>\n",
       "      <td>1</td>\n",
       "      <td>0</td>\n",
       "      <td>1</td>\n",
       "      <td>0</td>\n",
       "      <td>0</td>\n",
       "      <td>0</td>\n",
       "      <td>0</td>\n",
       "      <td>...</td>\n",
       "      <td>0</td>\n",
       "      <td>0</td>\n",
       "      <td>0</td>\n",
       "      <td>0</td>\n",
       "      <td>0</td>\n",
       "      <td>0</td>\n",
       "      <td>0</td>\n",
       "      <td>0</td>\n",
       "      <td>0</td>\n",
       "      <td>0</td>\n",
       "    </tr>\n",
       "    <tr>\n",
       "      <th>3</th>\n",
       "      <td>Grumpier Old Men</td>\n",
       "      <td>1995</td>\n",
       "      <td>0</td>\n",
       "      <td>0</td>\n",
       "      <td>0</td>\n",
       "      <td>0</td>\n",
       "      <td>1</td>\n",
       "      <td>0</td>\n",
       "      <td>0</td>\n",
       "      <td>0</td>\n",
       "      <td>...</td>\n",
       "      <td>0</td>\n",
       "      <td>0</td>\n",
       "      <td>0</td>\n",
       "      <td>1</td>\n",
       "      <td>0</td>\n",
       "      <td>0</td>\n",
       "      <td>0</td>\n",
       "      <td>0</td>\n",
       "      <td>0</td>\n",
       "      <td>0</td>\n",
       "    </tr>\n",
       "    <tr>\n",
       "      <th>4</th>\n",
       "      <td>Waiting to Exhale</td>\n",
       "      <td>1995</td>\n",
       "      <td>0</td>\n",
       "      <td>0</td>\n",
       "      <td>0</td>\n",
       "      <td>0</td>\n",
       "      <td>1</td>\n",
       "      <td>0</td>\n",
       "      <td>0</td>\n",
       "      <td>1</td>\n",
       "      <td>...</td>\n",
       "      <td>0</td>\n",
       "      <td>0</td>\n",
       "      <td>0</td>\n",
       "      <td>1</td>\n",
       "      <td>0</td>\n",
       "      <td>0</td>\n",
       "      <td>0</td>\n",
       "      <td>0</td>\n",
       "      <td>0</td>\n",
       "      <td>0</td>\n",
       "    </tr>\n",
       "    <tr>\n",
       "      <th>5</th>\n",
       "      <td>Father of the Bride Part II</td>\n",
       "      <td>1995</td>\n",
       "      <td>0</td>\n",
       "      <td>0</td>\n",
       "      <td>0</td>\n",
       "      <td>0</td>\n",
       "      <td>1</td>\n",
       "      <td>0</td>\n",
       "      <td>0</td>\n",
       "      <td>0</td>\n",
       "      <td>...</td>\n",
       "      <td>0</td>\n",
       "      <td>0</td>\n",
       "      <td>0</td>\n",
       "      <td>0</td>\n",
       "      <td>0</td>\n",
       "      <td>0</td>\n",
       "      <td>0</td>\n",
       "      <td>0</td>\n",
       "      <td>0</td>\n",
       "      <td>0</td>\n",
       "    </tr>\n",
       "  </tbody>\n",
       "</table>\n",
       "<p>5 rows × 22 columns</p>\n",
       "</div>"
      ],
      "text/plain": [
       "                               title  year  Action  Adventure  Animation  \\\n",
       "movieId                                                                    \n",
       "1                          Toy Story  1995       0          1          1   \n",
       "2                            Jumanji  1995       0          1          0   \n",
       "3                   Grumpier Old Men  1995       0          0          0   \n",
       "4                  Waiting to Exhale  1995       0          0          0   \n",
       "5        Father of the Bride Part II  1995       0          0          0   \n",
       "\n",
       "         Children  Comedy  Crime  Documentary  Drama  ...  Horror  Musical  \\\n",
       "movieId                                               ...                    \n",
       "1               1       1      0            0      0  ...       0        0   \n",
       "2               1       0      0            0      0  ...       0        0   \n",
       "3               0       1      0            0      0  ...       0        0   \n",
       "4               0       1      0            0      1  ...       0        0   \n",
       "5               0       1      0            0      0  ...       0        0   \n",
       "\n",
       "         Mystery  Romance  Sci-Fi  Thriller  War  Western  (no genres listed)  \\\n",
       "movieId                                                                         \n",
       "1              0        0       0         0    0        0                   0   \n",
       "2              0        0       0         0    0        0                   0   \n",
       "3              0        1       0         0    0        0                   0   \n",
       "4              0        1       0         0    0        0                   0   \n",
       "5              0        0       0         0    0        0                   0   \n",
       "\n",
       "         IMAX  \n",
       "movieId        \n",
       "1           0  \n",
       "2           0  \n",
       "3           0  \n",
       "4           0  \n",
       "5           0  \n",
       "\n",
       "[5 rows x 22 columns]"
      ]
     },
     "execution_count": 9,
     "metadata": {},
     "output_type": "execute_result"
    }
   ],
   "source": [
    "movies_df = movies_df.drop('genres', axis=1)\n",
    "movies_df.head()"
   ]
  },
  {
   "cell_type": "code",
   "execution_count": 10,
   "metadata": {
    "execution": {
     "iopub.status.busy": "2023-05-06T23:07:05.378458Z",
     "iopub.status.idle": "2023-05-06T23:07:05.379495Z",
     "shell.execute_reply": "2023-05-06T23:07:05.379219Z",
     "shell.execute_reply.started": "2023-05-06T23:07:05.379192Z"
    }
   },
   "outputs": [
    {
     "name": "stdout",
     "output_type": "stream",
     "text": [
      "<class 'pandas.core.frame.DataFrame'>\n",
      "Int64Index: 58098 entries, 1 to 193886\n",
      "Data columns (total 22 columns):\n",
      " #   Column              Non-Null Count  Dtype \n",
      "---  ------              --------------  ----- \n",
      " 0   title               58098 non-null  object\n",
      " 1   year                58098 non-null  int32 \n",
      " 2   Action              58098 non-null  int32 \n",
      " 3   Adventure           58098 non-null  int32 \n",
      " 4   Animation           58098 non-null  int32 \n",
      " 5   Children            58098 non-null  int32 \n",
      " 6   Comedy              58098 non-null  int32 \n",
      " 7   Crime               58098 non-null  int32 \n",
      " 8   Documentary         58098 non-null  int32 \n",
      " 9   Drama               58098 non-null  int32 \n",
      " 10  Fantasy             58098 non-null  int32 \n",
      " 11  Film-Noir           58098 non-null  int32 \n",
      " 12  Horror              58098 non-null  int32 \n",
      " 13  Musical             58098 non-null  int32 \n",
      " 14  Mystery             58098 non-null  int32 \n",
      " 15  Romance             58098 non-null  int32 \n",
      " 16  Sci-Fi              58098 non-null  int32 \n",
      " 17  Thriller            58098 non-null  int32 \n",
      " 18  War                 58098 non-null  int32 \n",
      " 19  Western             58098 non-null  int32 \n",
      " 20  (no genres listed)  58098 non-null  int32 \n",
      " 21  IMAX                58098 non-null  int32 \n",
      "dtypes: int32(21), object(1)\n",
      "memory usage: 7.6+ MB\n"
     ]
    }
   ],
   "source": [
    "movies_df.info()"
   ]
  },
  {
   "cell_type": "markdown",
   "metadata": {},
   "source": [
    "Вычисления средней оценки, стандартного отклонения и числа оценок"
   ]
  },
  {
   "cell_type": "code",
   "execution_count": 11,
   "metadata": {
    "execution": {
     "iopub.status.busy": "2023-05-06T23:07:05.381122Z",
     "iopub.status.idle": "2023-05-06T23:07:05.381877Z",
     "shell.execute_reply": "2023-05-06T23:07:05.381654Z",
     "shell.execute_reply.started": "2023-05-06T23:07:05.381629Z"
    }
   },
   "outputs": [
    {
     "data": {
      "text/html": [
       "<div>\n",
       "<style scoped>\n",
       "    .dataframe tbody tr th:only-of-type {\n",
       "        vertical-align: middle;\n",
       "    }\n",
       "\n",
       "    .dataframe tbody tr th {\n",
       "        vertical-align: top;\n",
       "    }\n",
       "\n",
       "    .dataframe thead th {\n",
       "        text-align: right;\n",
       "    }\n",
       "</style>\n",
       "<table border=\"1\" class=\"dataframe\">\n",
       "  <thead>\n",
       "    <tr style=\"text-align: right;\">\n",
       "      <th></th>\n",
       "      <th>rating_mean</th>\n",
       "      <th>rating_std</th>\n",
       "      <th>rating_count</th>\n",
       "    </tr>\n",
       "    <tr>\n",
       "      <th>movieId</th>\n",
       "      <th></th>\n",
       "      <th></th>\n",
       "      <th></th>\n",
       "    </tr>\n",
       "  </thead>\n",
       "  <tbody>\n",
       "    <tr>\n",
       "      <th>1</th>\n",
       "      <td>3.891454</td>\n",
       "      <td>0.917794</td>\n",
       "      <td>2469</td>\n",
       "    </tr>\n",
       "    <tr>\n",
       "      <th>2</th>\n",
       "      <td>3.231282</td>\n",
       "      <td>0.959175</td>\n",
       "      <td>975</td>\n",
       "    </tr>\n",
       "    <tr>\n",
       "      <th>3</th>\n",
       "      <td>3.190355</td>\n",
       "      <td>0.999860</td>\n",
       "      <td>591</td>\n",
       "    </tr>\n",
       "    <tr>\n",
       "      <th>4</th>\n",
       "      <td>2.995902</td>\n",
       "      <td>1.031520</td>\n",
       "      <td>122</td>\n",
       "    </tr>\n",
       "    <tr>\n",
       "      <th>5</th>\n",
       "      <td>3.032907</td>\n",
       "      <td>1.034132</td>\n",
       "      <td>547</td>\n",
       "    </tr>\n",
       "  </tbody>\n",
       "</table>\n",
       "</div>"
      ],
      "text/plain": [
       "         rating_mean  rating_std  rating_count\n",
       "movieId                                       \n",
       "1           3.891454    0.917794          2469\n",
       "2           3.231282    0.959175           975\n",
       "3           3.190355    0.999860           591\n",
       "4           2.995902    1.031520           122\n",
       "5           3.032907    1.034132           547"
      ]
     },
     "execution_count": 11,
     "metadata": {},
     "output_type": "execute_result"
    }
   ],
   "source": [
    "ratings_df_grouped = ratings_df.groupby('movieId').agg({'rating': ['mean', 'std', 'count']})\n",
    "ratings_df_grouped.columns = ['rating_mean', 'rating_std', 'rating_count']\n",
    "ratings_df_grouped['rating_count'] = ratings_df_grouped['rating_count'].astype(int)\n",
    "ratings_df_grouped.head()"
   ]
  },
  {
   "cell_type": "code",
   "execution_count": 12,
   "metadata": {
    "execution": {
     "iopub.status.busy": "2023-05-06T23:07:05.383008Z",
     "iopub.status.idle": "2023-05-06T23:07:05.383801Z",
     "shell.execute_reply": "2023-05-06T23:07:05.383550Z",
     "shell.execute_reply.started": "2023-05-06T23:07:05.383521Z"
    }
   },
   "outputs": [
    {
     "name": "stdout",
     "output_type": "stream",
     "text": [
      "<class 'pandas.core.frame.DataFrame'>\n",
      "Int64Index: 22031 entries, 1 to 193861\n",
      "Data columns (total 3 columns):\n",
      " #   Column        Non-Null Count  Dtype  \n",
      "---  ------        --------------  -----  \n",
      " 0   rating_mean   22031 non-null  float64\n",
      " 1   rating_std    15140 non-null  float64\n",
      " 2   rating_count  22031 non-null  int32  \n",
      "dtypes: float64(2), int32(1)\n",
      "memory usage: 602.4 KB\n"
     ]
    }
   ],
   "source": [
    "ratings_df_grouped.info()"
   ]
  },
  {
   "cell_type": "markdown",
   "metadata": {},
   "source": [
    "Если дана одна оценка фильма - стандартное отклонение не определено"
   ]
  },
  {
   "cell_type": "code",
   "execution_count": 13,
   "metadata": {
    "execution": {
     "iopub.status.busy": "2023-05-06T23:07:05.385734Z",
     "iopub.status.idle": "2023-05-06T23:07:05.386265Z",
     "shell.execute_reply": "2023-05-06T23:07:05.386012Z",
     "shell.execute_reply.started": "2023-05-06T23:07:05.385987Z"
    }
   },
   "outputs": [
    {
     "data": {
      "text/html": [
       "<div>\n",
       "<style scoped>\n",
       "    .dataframe tbody tr th:only-of-type {\n",
       "        vertical-align: middle;\n",
       "    }\n",
       "\n",
       "    .dataframe tbody tr th {\n",
       "        vertical-align: top;\n",
       "    }\n",
       "\n",
       "    .dataframe thead th {\n",
       "        text-align: right;\n",
       "    }\n",
       "</style>\n",
       "<table border=\"1\" class=\"dataframe\">\n",
       "  <thead>\n",
       "    <tr style=\"text-align: right;\">\n",
       "      <th></th>\n",
       "      <th>rating_mean</th>\n",
       "      <th>rating_std</th>\n",
       "      <th>rating_count</th>\n",
       "    </tr>\n",
       "    <tr>\n",
       "      <th>movieId</th>\n",
       "      <th></th>\n",
       "      <th></th>\n",
       "      <th></th>\n",
       "    </tr>\n",
       "  </thead>\n",
       "  <tbody>\n",
       "  </tbody>\n",
       "</table>\n",
       "</div>"
      ],
      "text/plain": [
       "Empty DataFrame\n",
       "Columns: [rating_mean, rating_std, rating_count]\n",
       "Index: []"
      ]
     },
     "execution_count": 13,
     "metadata": {},
     "output_type": "execute_result"
    }
   ],
   "source": [
    "ratings_df_grouped[(ratings_df_grouped['rating_std'].isnull()) & (ratings_df_grouped['rating_count'] != 1)]"
   ]
  },
  {
   "cell_type": "code",
   "execution_count": 14,
   "metadata": {
    "execution": {
     "iopub.status.busy": "2023-05-06T23:07:05.388126Z",
     "iopub.status.idle": "2023-05-06T23:07:05.388742Z",
     "shell.execute_reply": "2023-05-06T23:07:05.388510Z",
     "shell.execute_reply.started": "2023-05-06T23:07:05.388484Z"
    }
   },
   "outputs": [],
   "source": [
    "ratings_df_grouped['rating_std'] = ratings_df_grouped['rating_std'].fillna(0)"
   ]
  },
  {
   "cell_type": "code",
   "execution_count": 15,
   "metadata": {
    "execution": {
     "iopub.status.busy": "2023-05-06T23:07:05.390265Z",
     "iopub.status.idle": "2023-05-06T23:07:05.391398Z",
     "shell.execute_reply": "2023-05-06T23:07:05.391128Z",
     "shell.execute_reply.started": "2023-05-06T23:07:05.391098Z"
    }
   },
   "outputs": [],
   "source": [
    "movies_df = movies_df.join(ratings_df_grouped)"
   ]
  },
  {
   "cell_type": "code",
   "execution_count": 16,
   "metadata": {
    "execution": {
     "iopub.status.busy": "2023-05-06T23:07:05.392838Z",
     "iopub.status.idle": "2023-05-06T23:07:05.393621Z",
     "shell.execute_reply": "2023-05-06T23:07:05.393381Z",
     "shell.execute_reply.started": "2023-05-06T23:07:05.393354Z"
    }
   },
   "outputs": [
    {
     "data": {
      "text/html": [
       "<div>\n",
       "<style scoped>\n",
       "    .dataframe tbody tr th:only-of-type {\n",
       "        vertical-align: middle;\n",
       "    }\n",
       "\n",
       "    .dataframe tbody tr th {\n",
       "        vertical-align: top;\n",
       "    }\n",
       "\n",
       "    .dataframe thead th {\n",
       "        text-align: right;\n",
       "    }\n",
       "</style>\n",
       "<table border=\"1\" class=\"dataframe\">\n",
       "  <thead>\n",
       "    <tr style=\"text-align: right;\">\n",
       "      <th></th>\n",
       "      <th>title</th>\n",
       "      <th>year</th>\n",
       "      <th>Action</th>\n",
       "      <th>Adventure</th>\n",
       "      <th>Animation</th>\n",
       "      <th>Children</th>\n",
       "      <th>Comedy</th>\n",
       "      <th>Crime</th>\n",
       "      <th>Documentary</th>\n",
       "      <th>Drama</th>\n",
       "      <th>...</th>\n",
       "      <th>Romance</th>\n",
       "      <th>Sci-Fi</th>\n",
       "      <th>Thriller</th>\n",
       "      <th>War</th>\n",
       "      <th>Western</th>\n",
       "      <th>(no genres listed)</th>\n",
       "      <th>IMAX</th>\n",
       "      <th>rating_mean</th>\n",
       "      <th>rating_std</th>\n",
       "      <th>rating_count</th>\n",
       "    </tr>\n",
       "    <tr>\n",
       "      <th>movieId</th>\n",
       "      <th></th>\n",
       "      <th></th>\n",
       "      <th></th>\n",
       "      <th></th>\n",
       "      <th></th>\n",
       "      <th></th>\n",
       "      <th></th>\n",
       "      <th></th>\n",
       "      <th></th>\n",
       "      <th></th>\n",
       "      <th></th>\n",
       "      <th></th>\n",
       "      <th></th>\n",
       "      <th></th>\n",
       "      <th></th>\n",
       "      <th></th>\n",
       "      <th></th>\n",
       "      <th></th>\n",
       "      <th></th>\n",
       "      <th></th>\n",
       "      <th></th>\n",
       "    </tr>\n",
       "  </thead>\n",
       "  <tbody>\n",
       "    <tr>\n",
       "      <th>1</th>\n",
       "      <td>Toy Story</td>\n",
       "      <td>1995</td>\n",
       "      <td>0</td>\n",
       "      <td>1</td>\n",
       "      <td>1</td>\n",
       "      <td>1</td>\n",
       "      <td>1</td>\n",
       "      <td>0</td>\n",
       "      <td>0</td>\n",
       "      <td>0</td>\n",
       "      <td>...</td>\n",
       "      <td>0</td>\n",
       "      <td>0</td>\n",
       "      <td>0</td>\n",
       "      <td>0</td>\n",
       "      <td>0</td>\n",
       "      <td>0</td>\n",
       "      <td>0</td>\n",
       "      <td>3.891454</td>\n",
       "      <td>0.917794</td>\n",
       "      <td>2469.0</td>\n",
       "    </tr>\n",
       "    <tr>\n",
       "      <th>2</th>\n",
       "      <td>Jumanji</td>\n",
       "      <td>1995</td>\n",
       "      <td>0</td>\n",
       "      <td>1</td>\n",
       "      <td>0</td>\n",
       "      <td>1</td>\n",
       "      <td>0</td>\n",
       "      <td>0</td>\n",
       "      <td>0</td>\n",
       "      <td>0</td>\n",
       "      <td>...</td>\n",
       "      <td>0</td>\n",
       "      <td>0</td>\n",
       "      <td>0</td>\n",
       "      <td>0</td>\n",
       "      <td>0</td>\n",
       "      <td>0</td>\n",
       "      <td>0</td>\n",
       "      <td>3.231282</td>\n",
       "      <td>0.959175</td>\n",
       "      <td>975.0</td>\n",
       "    </tr>\n",
       "    <tr>\n",
       "      <th>3</th>\n",
       "      <td>Grumpier Old Men</td>\n",
       "      <td>1995</td>\n",
       "      <td>0</td>\n",
       "      <td>0</td>\n",
       "      <td>0</td>\n",
       "      <td>0</td>\n",
       "      <td>1</td>\n",
       "      <td>0</td>\n",
       "      <td>0</td>\n",
       "      <td>0</td>\n",
       "      <td>...</td>\n",
       "      <td>1</td>\n",
       "      <td>0</td>\n",
       "      <td>0</td>\n",
       "      <td>0</td>\n",
       "      <td>0</td>\n",
       "      <td>0</td>\n",
       "      <td>0</td>\n",
       "      <td>3.190355</td>\n",
       "      <td>0.999860</td>\n",
       "      <td>591.0</td>\n",
       "    </tr>\n",
       "    <tr>\n",
       "      <th>4</th>\n",
       "      <td>Waiting to Exhale</td>\n",
       "      <td>1995</td>\n",
       "      <td>0</td>\n",
       "      <td>0</td>\n",
       "      <td>0</td>\n",
       "      <td>0</td>\n",
       "      <td>1</td>\n",
       "      <td>0</td>\n",
       "      <td>0</td>\n",
       "      <td>1</td>\n",
       "      <td>...</td>\n",
       "      <td>1</td>\n",
       "      <td>0</td>\n",
       "      <td>0</td>\n",
       "      <td>0</td>\n",
       "      <td>0</td>\n",
       "      <td>0</td>\n",
       "      <td>0</td>\n",
       "      <td>2.995902</td>\n",
       "      <td>1.031520</td>\n",
       "      <td>122.0</td>\n",
       "    </tr>\n",
       "    <tr>\n",
       "      <th>5</th>\n",
       "      <td>Father of the Bride Part II</td>\n",
       "      <td>1995</td>\n",
       "      <td>0</td>\n",
       "      <td>0</td>\n",
       "      <td>0</td>\n",
       "      <td>0</td>\n",
       "      <td>1</td>\n",
       "      <td>0</td>\n",
       "      <td>0</td>\n",
       "      <td>0</td>\n",
       "      <td>...</td>\n",
       "      <td>0</td>\n",
       "      <td>0</td>\n",
       "      <td>0</td>\n",
       "      <td>0</td>\n",
       "      <td>0</td>\n",
       "      <td>0</td>\n",
       "      <td>0</td>\n",
       "      <td>3.032907</td>\n",
       "      <td>1.034132</td>\n",
       "      <td>547.0</td>\n",
       "    </tr>\n",
       "  </tbody>\n",
       "</table>\n",
       "<p>5 rows × 25 columns</p>\n",
       "</div>"
      ],
      "text/plain": [
       "                               title  year  Action  Adventure  Animation  \\\n",
       "movieId                                                                    \n",
       "1                          Toy Story  1995       0          1          1   \n",
       "2                            Jumanji  1995       0          1          0   \n",
       "3                   Grumpier Old Men  1995       0          0          0   \n",
       "4                  Waiting to Exhale  1995       0          0          0   \n",
       "5        Father of the Bride Part II  1995       0          0          0   \n",
       "\n",
       "         Children  Comedy  Crime  Documentary  Drama  ...  Romance  Sci-Fi  \\\n",
       "movieId                                               ...                    \n",
       "1               1       1      0            0      0  ...        0       0   \n",
       "2               1       0      0            0      0  ...        0       0   \n",
       "3               0       1      0            0      0  ...        1       0   \n",
       "4               0       1      0            0      1  ...        1       0   \n",
       "5               0       1      0            0      0  ...        0       0   \n",
       "\n",
       "         Thriller  War  Western  (no genres listed)  IMAX  rating_mean  \\\n",
       "movieId                                                                  \n",
       "1               0    0        0                   0     0     3.891454   \n",
       "2               0    0        0                   0     0     3.231282   \n",
       "3               0    0        0                   0     0     3.190355   \n",
       "4               0    0        0                   0     0     2.995902   \n",
       "5               0    0        0                   0     0     3.032907   \n",
       "\n",
       "         rating_std  rating_count  \n",
       "movieId                            \n",
       "1          0.917794        2469.0  \n",
       "2          0.959175         975.0  \n",
       "3          0.999860         591.0  \n",
       "4          1.031520         122.0  \n",
       "5          1.034132         547.0  \n",
       "\n",
       "[5 rows x 25 columns]"
      ]
     },
     "execution_count": 16,
     "metadata": {},
     "output_type": "execute_result"
    }
   ],
   "source": [
    "movies_df.head()"
   ]
  },
  {
   "cell_type": "code",
   "execution_count": 17,
   "metadata": {
    "execution": {
     "iopub.status.busy": "2023-05-06T23:07:05.394989Z",
     "iopub.status.idle": "2023-05-06T23:07:05.395774Z",
     "shell.execute_reply": "2023-05-06T23:07:05.395533Z",
     "shell.execute_reply.started": "2023-05-06T23:07:05.395509Z"
    }
   },
   "outputs": [],
   "source": [
    "movies_df['rating_mean'] = movies_df.rating_mean.fillna(movies_df.rating_mean.mean())\n",
    "movies_df['rating_std'] = movies_df.rating_std.fillna(0)\n",
    "movies_df['rating_count'] = movies_df.rating_count.fillna(0)"
   ]
  },
  {
   "cell_type": "code",
   "execution_count": 18,
   "metadata": {
    "execution": {
     "iopub.status.busy": "2023-05-06T23:07:05.397088Z",
     "iopub.status.idle": "2023-05-06T23:07:05.397835Z",
     "shell.execute_reply": "2023-05-06T23:07:05.397600Z",
     "shell.execute_reply.started": "2023-05-06T23:07:05.397575Z"
    }
   },
   "outputs": [
    {
     "name": "stdout",
     "output_type": "stream",
     "text": [
      "<class 'pandas.core.frame.DataFrame'>\n",
      "Int64Index: 58098 entries, 1 to 193886\n",
      "Data columns (total 25 columns):\n",
      " #   Column              Non-Null Count  Dtype  \n",
      "---  ------              --------------  -----  \n",
      " 0   title               58098 non-null  object \n",
      " 1   year                58098 non-null  int32  \n",
      " 2   Action              58098 non-null  int32  \n",
      " 3   Adventure           58098 non-null  int32  \n",
      " 4   Animation           58098 non-null  int32  \n",
      " 5   Children            58098 non-null  int32  \n",
      " 6   Comedy              58098 non-null  int32  \n",
      " 7   Crime               58098 non-null  int32  \n",
      " 8   Documentary         58098 non-null  int32  \n",
      " 9   Drama               58098 non-null  int32  \n",
      " 10  Fantasy             58098 non-null  int32  \n",
      " 11  Film-Noir           58098 non-null  int32  \n",
      " 12  Horror              58098 non-null  int32  \n",
      " 13  Musical             58098 non-null  int32  \n",
      " 14  Mystery             58098 non-null  int32  \n",
      " 15  Romance             58098 non-null  int32  \n",
      " 16  Sci-Fi              58098 non-null  int32  \n",
      " 17  Thriller            58098 non-null  int32  \n",
      " 18  War                 58098 non-null  int32  \n",
      " 19  Western             58098 non-null  int32  \n",
      " 20  (no genres listed)  58098 non-null  int32  \n",
      " 21  IMAX                58098 non-null  int32  \n",
      " 22  rating_mean         58098 non-null  float64\n",
      " 23  rating_std          58098 non-null  float64\n",
      " 24  rating_count        58098 non-null  float64\n",
      "dtypes: float64(3), int32(21), object(1)\n",
      "memory usage: 8.9+ MB\n"
     ]
    }
   ],
   "source": [
    "movies_df.info()"
   ]
  },
  {
   "cell_type": "code",
   "execution_count": 49,
   "metadata": {},
   "outputs": [],
   "source": [
    "movies_df.to_csv('ml-latest/movies_mod.csv')"
   ]
  },
  {
   "cell_type": "markdown",
   "metadata": {},
   "source": [
    "## Визуализация данных"
   ]
  },
  {
   "cell_type": "markdown",
   "metadata": {},
   "source": [
    "Распределение средних оценок фильмов"
   ]
  },
  {
   "cell_type": "code",
   "execution_count": 27,
   "metadata": {},
   "outputs": [
    {
     "data": {
      "image/png": "[encoded data removed]",
      "text/plain": [
       "<Figure size 640x480 with 1 Axes>"
      ]
     },
     "metadata": {},
     "output_type": "display_data"
    }
   ],
   "source": [
    "movies_df.rating_mean.hist(bins=10)\n",
    "plt.grid(False)\n",
    "plt.show()"
   ]
  },
  {
   "cell_type": "markdown",
   "metadata": {},
   "source": [
    "Распределение жанров фильмов"
   ]
  },
  {
   "cell_type": "code",
   "execution_count": 47,
   "metadata": {},
   "outputs": [
    {
     "data": {
      "image/png": "[encoded data removed]",
      "text/plain": [
       "<Figure size 1200x600 with 1 Axes>"
      ]
     },
     "metadata": {},
     "output_type": "display_data"
    }
   ],
   "source": [
    "plt.figure(figsize=(12,6))\n",
    "plt.bar(movies_df[genres_list].sum().index, movies_df[genres_list].sum().values)\n",
    "plt.xticks(rotation = 45)\n",
    "plt.show()"
   ]
  },
  {
   "cell_type": "markdown",
   "metadata": {},
   "source": [
    "## Модель с классическими эмбедингами"
   ]
  },
  {
   "cell_type": "code",
   "execution_count": 20,
   "metadata": {
    "execution": {
     "iopub.status.busy": "2023-05-06T23:07:05.399150Z",
     "iopub.status.idle": "2023-05-06T23:07:05.399895Z",
     "shell.execute_reply": "2023-05-06T23:07:05.399664Z",
     "shell.execute_reply.started": "2023-05-06T23:07:05.399640Z"
    }
   },
   "outputs": [],
   "source": [
    "import tensorflow as tf\n",
    "from tensorflow import keras\n",
    "from keras import Input, Model, layers, Sequential\n",
    "from tensorflow.keras.optimizers.legacy import Adam"
   ]
  },
  {
   "cell_type": "code",
   "execution_count": 21,
   "metadata": {
    "execution": {
     "iopub.status.busy": "2023-05-06T23:07:05.401202Z",
     "iopub.status.idle": "2023-05-06T23:07:05.401953Z",
     "shell.execute_reply": "2023-05-06T23:07:05.401722Z",
     "shell.execute_reply.started": "2023-05-06T23:07:05.401696Z"
    }
   },
   "outputs": [],
   "source": [
    "from sklearn.model_selection import train_test_split\n",
    "from sklearn.metrics.pairwise import cosine_similarity"
   ]
  },
  {
   "cell_type": "markdown",
   "metadata": {},
   "source": [
    "Создание эмбедингов для названий фильмов"
   ]
  },
  {
   "cell_type": "code",
   "execution_count": 22,
   "metadata": {
    "execution": {
     "iopub.status.busy": "2023-05-06T23:07:05.403144Z",
     "iopub.status.idle": "2023-05-06T23:07:05.404441Z",
     "shell.execute_reply": "2023-05-06T23:07:05.404177Z",
     "shell.execute_reply.started": "2023-05-06T23:07:05.404150Z"
    }
   },
   "outputs": [],
   "source": [
    "movie_title_lookup = layers.StringLookup()\n",
    "movie_title_lookup.adapt(movies_df[\"title\"])"
   ]
  },
  {
   "cell_type": "code",
   "execution_count": 23,
   "metadata": {
    "execution": {
     "iopub.status.busy": "2023-05-06T23:07:05.405658Z",
     "iopub.status.idle": "2023-05-06T23:07:05.406155Z",
     "shell.execute_reply": "2023-05-06T23:07:05.405929Z",
     "shell.execute_reply.started": "2023-05-06T23:07:05.405904Z"
    }
   },
   "outputs": [],
   "source": [
    "num_hashing_bins = 200_000\n",
    "\n",
    "movie_title_hashing = layers.Hashing(num_bins=num_hashing_bins)"
   ]
  },
  {
   "cell_type": "markdown",
   "metadata": {},
   "source": [
    "Подготовка датасета"
   ]
  },
  {
   "cell_type": "code",
   "execution_count": 24,
   "metadata": {
    "execution": {
     "iopub.status.busy": "2023-05-06T23:07:05.407895Z",
     "iopub.status.idle": "2023-05-06T23:07:05.408408Z",
     "shell.execute_reply": "2023-05-06T23:07:05.408154Z",
     "shell.execute_reply.started": "2023-05-06T23:07:05.408130Z"
    }
   },
   "outputs": [
    {
     "data": {
      "text/html": [
       "<div>\n",
       "<style scoped>\n",
       "    .dataframe tbody tr th:only-of-type {\n",
       "        vertical-align: middle;\n",
       "    }\n",
       "\n",
       "    .dataframe tbody tr th {\n",
       "        vertical-align: top;\n",
       "    }\n",
       "\n",
       "    .dataframe thead th {\n",
       "        text-align: right;\n",
       "    }\n",
       "</style>\n",
       "<table border=\"1\" class=\"dataframe\">\n",
       "  <thead>\n",
       "    <tr style=\"text-align: right;\">\n",
       "      <th></th>\n",
       "      <th>userId</th>\n",
       "      <th>movieId</th>\n",
       "      <th>rating</th>\n",
       "      <th>title</th>\n",
       "      <th>year</th>\n",
       "      <th>Action</th>\n",
       "      <th>Adventure</th>\n",
       "      <th>Animation</th>\n",
       "      <th>Children</th>\n",
       "      <th>Comedy</th>\n",
       "      <th>...</th>\n",
       "      <th>Romance</th>\n",
       "      <th>Sci-Fi</th>\n",
       "      <th>Thriller</th>\n",
       "      <th>War</th>\n",
       "      <th>Western</th>\n",
       "      <th>(no genres listed)</th>\n",
       "      <th>IMAX</th>\n",
       "      <th>rating_mean</th>\n",
       "      <th>rating_std</th>\n",
       "      <th>rating_count</th>\n",
       "    </tr>\n",
       "  </thead>\n",
       "  <tbody>\n",
       "    <tr>\n",
       "      <th>0</th>\n",
       "      <td>1</td>\n",
       "      <td>307</td>\n",
       "      <td>3.5</td>\n",
       "      <td>7878</td>\n",
       "      <td>1993</td>\n",
       "      <td>0</td>\n",
       "      <td>0</td>\n",
       "      <td>0</td>\n",
       "      <td>0</td>\n",
       "      <td>0</td>\n",
       "      <td>...</td>\n",
       "      <td>0</td>\n",
       "      <td>0</td>\n",
       "      <td>0</td>\n",
       "      <td>0</td>\n",
       "      <td>0</td>\n",
       "      <td>0</td>\n",
       "      <td>0</td>\n",
       "      <td>4.036164</td>\n",
       "      <td>0.959485</td>\n",
       "      <td>318.0</td>\n",
       "    </tr>\n",
       "    <tr>\n",
       "      <th>1</th>\n",
       "      <td>1</td>\n",
       "      <td>481</td>\n",
       "      <td>3.5</td>\n",
       "      <td>31901</td>\n",
       "      <td>1993</td>\n",
       "      <td>0</td>\n",
       "      <td>0</td>\n",
       "      <td>0</td>\n",
       "      <td>0</td>\n",
       "      <td>0</td>\n",
       "      <td>...</td>\n",
       "      <td>0</td>\n",
       "      <td>0</td>\n",
       "      <td>1</td>\n",
       "      <td>0</td>\n",
       "      <td>0</td>\n",
       "      <td>0</td>\n",
       "      <td>0</td>\n",
       "      <td>3.371542</td>\n",
       "      <td>0.886573</td>\n",
       "      <td>253.0</td>\n",
       "    </tr>\n",
       "    <tr>\n",
       "      <th>2</th>\n",
       "      <td>1</td>\n",
       "      <td>1091</td>\n",
       "      <td>1.5</td>\n",
       "      <td>4643</td>\n",
       "      <td>1989</td>\n",
       "      <td>0</td>\n",
       "      <td>0</td>\n",
       "      <td>0</td>\n",
       "      <td>0</td>\n",
       "      <td>1</td>\n",
       "      <td>...</td>\n",
       "      <td>0</td>\n",
       "      <td>0</td>\n",
       "      <td>0</td>\n",
       "      <td>0</td>\n",
       "      <td>0</td>\n",
       "      <td>0</td>\n",
       "      <td>0</td>\n",
       "      <td>2.815421</td>\n",
       "      <td>1.122663</td>\n",
       "      <td>214.0</td>\n",
       "    </tr>\n",
       "    <tr>\n",
       "      <th>3</th>\n",
       "      <td>1</td>\n",
       "      <td>1257</td>\n",
       "      <td>4.5</td>\n",
       "      <td>49324</td>\n",
       "      <td>1985</td>\n",
       "      <td>0</td>\n",
       "      <td>0</td>\n",
       "      <td>0</td>\n",
       "      <td>0</td>\n",
       "      <td>1</td>\n",
       "      <td>...</td>\n",
       "      <td>1</td>\n",
       "      <td>0</td>\n",
       "      <td>0</td>\n",
       "      <td>0</td>\n",
       "      <td>0</td>\n",
       "      <td>0</td>\n",
       "      <td>0</td>\n",
       "      <td>3.799550</td>\n",
       "      <td>0.921905</td>\n",
       "      <td>222.0</td>\n",
       "    </tr>\n",
       "    <tr>\n",
       "      <th>4</th>\n",
       "      <td>1</td>\n",
       "      <td>1449</td>\n",
       "      <td>4.5</td>\n",
       "      <td>5104</td>\n",
       "      <td>1996</td>\n",
       "      <td>0</td>\n",
       "      <td>0</td>\n",
       "      <td>0</td>\n",
       "      <td>0</td>\n",
       "      <td>1</td>\n",
       "      <td>...</td>\n",
       "      <td>0</td>\n",
       "      <td>0</td>\n",
       "      <td>0</td>\n",
       "      <td>0</td>\n",
       "      <td>0</td>\n",
       "      <td>0</td>\n",
       "      <td>0</td>\n",
       "      <td>3.916667</td>\n",
       "      <td>0.974243</td>\n",
       "      <td>246.0</td>\n",
       "    </tr>\n",
       "  </tbody>\n",
       "</table>\n",
       "<p>5 rows × 28 columns</p>\n",
       "</div>"
      ],
      "text/plain": [
       "   userId  movieId  rating  title  year  Action  Adventure  Animation  \\\n",
       "0       1      307     3.5   7878  1993       0          0          0   \n",
       "1       1      481     3.5  31901  1993       0          0          0   \n",
       "2       1     1091     1.5   4643  1989       0          0          0   \n",
       "3       1     1257     4.5  49324  1985       0          0          0   \n",
       "4       1     1449     4.5   5104  1996       0          0          0   \n",
       "\n",
       "   Children  Comedy  ...  Romance  Sci-Fi  Thriller  War  Western  \\\n",
       "0         0       0  ...        0       0         0    0        0   \n",
       "1         0       0  ...        0       0         1    0        0   \n",
       "2         0       1  ...        0       0         0    0        0   \n",
       "3         0       1  ...        1       0         0    0        0   \n",
       "4         0       1  ...        0       0         0    0        0   \n",
       "\n",
       "   (no genres listed)  IMAX  rating_mean  rating_std  rating_count  \n",
       "0                   0     0     4.036164    0.959485         318.0  \n",
       "1                   0     0     3.371542    0.886573         253.0  \n",
       "2                   0     0     2.815421    1.122663         214.0  \n",
       "3                   0     0     3.799550    0.921905         222.0  \n",
       "4                   0     0     3.916667    0.974243         246.0  \n",
       "\n",
       "[5 rows x 28 columns]"
      ]
     },
     "execution_count": 24,
     "metadata": {},
     "output_type": "execute_result"
    }
   ],
   "source": [
    "ratings_df = ratings_df.drop('timestamp', axis=1)\n",
    "ratings_df = pd.merge(ratings_df, movies_df, how='left', left_on='movieId', right_on='movieId')\n",
    "ratings_df['title'] = movie_title_lookup(ratings_df[\"title\"]).numpy()\n",
    "ratings_df.head()"
   ]
  },
  {
   "cell_type": "code",
   "execution_count": 25,
   "metadata": {
    "execution": {
     "iopub.status.busy": "2023-05-06T23:07:05.409950Z",
     "iopub.status.idle": "2023-05-06T23:07:05.410503Z",
     "shell.execute_reply": "2023-05-06T23:07:05.410245Z",
     "shell.execute_reply.started": "2023-05-06T23:07:05.410220Z"
    }
   },
   "outputs": [
    {
     "name": "stdout",
     "output_type": "stream",
     "text": [
      "<class 'pandas.core.frame.DataFrame'>\n",
      "Int64Index: 1000000 entries, 0 to 999999\n",
      "Data columns (total 28 columns):\n",
      " #   Column              Non-Null Count    Dtype  \n",
      "---  ------              --------------    -----  \n",
      " 0   userId              1000000 non-null  int64  \n",
      " 1   movieId             1000000 non-null  int64  \n",
      " 2   rating              1000000 non-null  float64\n",
      " 3   title               1000000 non-null  int64  \n",
      " 4   year                1000000 non-null  int32  \n",
      " 5   Action              1000000 non-null  int32  \n",
      " 6   Adventure           1000000 non-null  int32  \n",
      " 7   Animation           1000000 non-null  int32  \n",
      " 8   Children            1000000 non-null  int32  \n",
      " 9   Comedy              1000000 non-null  int32  \n",
      " 10  Crime               1000000 non-null  int32  \n",
      " 11  Documentary         1000000 non-null  int32  \n",
      " 12  Drama               1000000 non-null  int32  \n",
      " 13  Fantasy             1000000 non-null  int32  \n",
      " 14  Film-Noir           1000000 non-null  int32  \n",
      " 15  Horror              1000000 non-null  int32  \n",
      " 16  Musical             1000000 non-null  int32  \n",
      " 17  Mystery             1000000 non-null  int32  \n",
      " 18  Romance             1000000 non-null  int32  \n",
      " 19  Sci-Fi              1000000 non-null  int32  \n",
      " 20  Thriller            1000000 non-null  int32  \n",
      " 21  War                 1000000 non-null  int32  \n",
      " 22  Western             1000000 non-null  int32  \n",
      " 23  (no genres listed)  1000000 non-null  int32  \n",
      " 24  IMAX                1000000 non-null  int32  \n",
      " 25  rating_mean         1000000 non-null  float64\n",
      " 26  rating_std          1000000 non-null  float64\n",
      " 27  rating_count        1000000 non-null  float64\n",
      "dtypes: float64(4), int32(21), int64(3)\n",
      "memory usage: 141.1 MB\n"
     ]
    }
   ],
   "source": [
    "ratings_df.info()"
   ]
  },
  {
   "cell_type": "code",
   "execution_count": 26,
   "metadata": {
    "execution": {
     "iopub.status.busy": "2023-05-06T23:07:05.412323Z",
     "iopub.status.idle": "2023-05-06T23:07:05.412734Z",
     "shell.execute_reply": "2023-05-06T23:07:05.412577Z",
     "shell.execute_reply.started": "2023-05-06T23:07:05.412560Z"
    }
   },
   "outputs": [
    {
     "data": {
      "text/html": [
       "<div>\n",
       "<style scoped>\n",
       "    .dataframe tbody tr th:only-of-type {\n",
       "        vertical-align: middle;\n",
       "    }\n",
       "\n",
       "    .dataframe tbody tr th {\n",
       "        vertical-align: top;\n",
       "    }\n",
       "\n",
       "    .dataframe thead th {\n",
       "        text-align: right;\n",
       "    }\n",
       "</style>\n",
       "<table border=\"1\" class=\"dataframe\">\n",
       "  <thead>\n",
       "    <tr style=\"text-align: right;\">\n",
       "      <th></th>\n",
       "      <th>userId</th>\n",
       "      <th>movieId</th>\n",
       "      <th>title</th>\n",
       "      <th>year</th>\n",
       "      <th>Action</th>\n",
       "      <th>Adventure</th>\n",
       "      <th>Animation</th>\n",
       "      <th>Children</th>\n",
       "      <th>Comedy</th>\n",
       "      <th>Crime</th>\n",
       "      <th>...</th>\n",
       "      <th>Romance</th>\n",
       "      <th>Sci-Fi</th>\n",
       "      <th>Thriller</th>\n",
       "      <th>War</th>\n",
       "      <th>Western</th>\n",
       "      <th>(no genres listed)</th>\n",
       "      <th>IMAX</th>\n",
       "      <th>rating_mean</th>\n",
       "      <th>rating_std</th>\n",
       "      <th>rating_count</th>\n",
       "    </tr>\n",
       "  </thead>\n",
       "  <tbody>\n",
       "    <tr>\n",
       "      <th>0</th>\n",
       "      <td>1</td>\n",
       "      <td>307</td>\n",
       "      <td>7878</td>\n",
       "      <td>1993</td>\n",
       "      <td>0</td>\n",
       "      <td>0</td>\n",
       "      <td>0</td>\n",
       "      <td>0</td>\n",
       "      <td>0</td>\n",
       "      <td>0</td>\n",
       "      <td>...</td>\n",
       "      <td>0</td>\n",
       "      <td>0</td>\n",
       "      <td>0</td>\n",
       "      <td>0</td>\n",
       "      <td>0</td>\n",
       "      <td>0</td>\n",
       "      <td>0</td>\n",
       "      <td>4.036164</td>\n",
       "      <td>0.959485</td>\n",
       "      <td>318.0</td>\n",
       "    </tr>\n",
       "    <tr>\n",
       "      <th>1</th>\n",
       "      <td>1</td>\n",
       "      <td>481</td>\n",
       "      <td>31901</td>\n",
       "      <td>1993</td>\n",
       "      <td>0</td>\n",
       "      <td>0</td>\n",
       "      <td>0</td>\n",
       "      <td>0</td>\n",
       "      <td>0</td>\n",
       "      <td>0</td>\n",
       "      <td>...</td>\n",
       "      <td>0</td>\n",
       "      <td>0</td>\n",
       "      <td>1</td>\n",
       "      <td>0</td>\n",
       "      <td>0</td>\n",
       "      <td>0</td>\n",
       "      <td>0</td>\n",
       "      <td>3.371542</td>\n",
       "      <td>0.886573</td>\n",
       "      <td>253.0</td>\n",
       "    </tr>\n",
       "    <tr>\n",
       "      <th>2</th>\n",
       "      <td>1</td>\n",
       "      <td>1091</td>\n",
       "      <td>4643</td>\n",
       "      <td>1989</td>\n",
       "      <td>0</td>\n",
       "      <td>0</td>\n",
       "      <td>0</td>\n",
       "      <td>0</td>\n",
       "      <td>1</td>\n",
       "      <td>0</td>\n",
       "      <td>...</td>\n",
       "      <td>0</td>\n",
       "      <td>0</td>\n",
       "      <td>0</td>\n",
       "      <td>0</td>\n",
       "      <td>0</td>\n",
       "      <td>0</td>\n",
       "      <td>0</td>\n",
       "      <td>2.815421</td>\n",
       "      <td>1.122663</td>\n",
       "      <td>214.0</td>\n",
       "    </tr>\n",
       "    <tr>\n",
       "      <th>3</th>\n",
       "      <td>1</td>\n",
       "      <td>1257</td>\n",
       "      <td>49324</td>\n",
       "      <td>1985</td>\n",
       "      <td>0</td>\n",
       "      <td>0</td>\n",
       "      <td>0</td>\n",
       "      <td>0</td>\n",
       "      <td>1</td>\n",
       "      <td>0</td>\n",
       "      <td>...</td>\n",
       "      <td>1</td>\n",
       "      <td>0</td>\n",
       "      <td>0</td>\n",
       "      <td>0</td>\n",
       "      <td>0</td>\n",
       "      <td>0</td>\n",
       "      <td>0</td>\n",
       "      <td>3.799550</td>\n",
       "      <td>0.921905</td>\n",
       "      <td>222.0</td>\n",
       "    </tr>\n",
       "    <tr>\n",
       "      <th>4</th>\n",
       "      <td>1</td>\n",
       "      <td>1449</td>\n",
       "      <td>5104</td>\n",
       "      <td>1996</td>\n",
       "      <td>0</td>\n",
       "      <td>0</td>\n",
       "      <td>0</td>\n",
       "      <td>0</td>\n",
       "      <td>1</td>\n",
       "      <td>0</td>\n",
       "      <td>...</td>\n",
       "      <td>0</td>\n",
       "      <td>0</td>\n",
       "      <td>0</td>\n",
       "      <td>0</td>\n",
       "      <td>0</td>\n",
       "      <td>0</td>\n",
       "      <td>0</td>\n",
       "      <td>3.916667</td>\n",
       "      <td>0.974243</td>\n",
       "      <td>246.0</td>\n",
       "    </tr>\n",
       "    <tr>\n",
       "      <th>...</th>\n",
       "      <td>...</td>\n",
       "      <td>...</td>\n",
       "      <td>...</td>\n",
       "      <td>...</td>\n",
       "      <td>...</td>\n",
       "      <td>...</td>\n",
       "      <td>...</td>\n",
       "      <td>...</td>\n",
       "      <td>...</td>\n",
       "      <td>...</td>\n",
       "      <td>...</td>\n",
       "      <td>...</td>\n",
       "      <td>...</td>\n",
       "      <td>...</td>\n",
       "      <td>...</td>\n",
       "      <td>...</td>\n",
       "      <td>...</td>\n",
       "      <td>...</td>\n",
       "      <td>...</td>\n",
       "      <td>...</td>\n",
       "      <td>...</td>\n",
       "    </tr>\n",
       "    <tr>\n",
       "      <th>999995</th>\n",
       "      <td>10073</td>\n",
       "      <td>1370</td>\n",
       "      <td>42615</td>\n",
       "      <td>1990</td>\n",
       "      <td>1</td>\n",
       "      <td>1</td>\n",
       "      <td>0</td>\n",
       "      <td>0</td>\n",
       "      <td>0</td>\n",
       "      <td>0</td>\n",
       "      <td>...</td>\n",
       "      <td>0</td>\n",
       "      <td>0</td>\n",
       "      <td>1</td>\n",
       "      <td>0</td>\n",
       "      <td>0</td>\n",
       "      <td>0</td>\n",
       "      <td>0</td>\n",
       "      <td>3.421875</td>\n",
       "      <td>0.858592</td>\n",
       "      <td>672.0</td>\n",
       "    </tr>\n",
       "    <tr>\n",
       "      <th>999996</th>\n",
       "      <td>10073</td>\n",
       "      <td>1377</td>\n",
       "      <td>49959</td>\n",
       "      <td>1992</td>\n",
       "      <td>1</td>\n",
       "      <td>0</td>\n",
       "      <td>0</td>\n",
       "      <td>0</td>\n",
       "      <td>0</td>\n",
       "      <td>1</td>\n",
       "      <td>...</td>\n",
       "      <td>0</td>\n",
       "      <td>0</td>\n",
       "      <td>0</td>\n",
       "      <td>0</td>\n",
       "      <td>0</td>\n",
       "      <td>0</td>\n",
       "      <td>0</td>\n",
       "      <td>3.131879</td>\n",
       "      <td>0.923484</td>\n",
       "      <td>527.0</td>\n",
       "    </tr>\n",
       "    <tr>\n",
       "      <th>999997</th>\n",
       "      <td>10073</td>\n",
       "      <td>1407</td>\n",
       "      <td>1176</td>\n",
       "      <td>1996</td>\n",
       "      <td>0</td>\n",
       "      <td>0</td>\n",
       "      <td>0</td>\n",
       "      <td>0</td>\n",
       "      <td>1</td>\n",
       "      <td>0</td>\n",
       "      <td>...</td>\n",
       "      <td>0</td>\n",
       "      <td>0</td>\n",
       "      <td>1</td>\n",
       "      <td>0</td>\n",
       "      <td>0</td>\n",
       "      <td>0</td>\n",
       "      <td>0</td>\n",
       "      <td>3.191926</td>\n",
       "      <td>1.131900</td>\n",
       "      <td>706.0</td>\n",
       "    </tr>\n",
       "    <tr>\n",
       "      <th>999998</th>\n",
       "      <td>10073</td>\n",
       "      <td>1466</td>\n",
       "      <td>42053</td>\n",
       "      <td>1997</td>\n",
       "      <td>0</td>\n",
       "      <td>0</td>\n",
       "      <td>0</td>\n",
       "      <td>0</td>\n",
       "      <td>0</td>\n",
       "      <td>1</td>\n",
       "      <td>...</td>\n",
       "      <td>0</td>\n",
       "      <td>0</td>\n",
       "      <td>0</td>\n",
       "      <td>0</td>\n",
       "      <td>0</td>\n",
       "      <td>0</td>\n",
       "      <td>0</td>\n",
       "      <td>3.806977</td>\n",
       "      <td>0.770189</td>\n",
       "      <td>430.0</td>\n",
       "    </tr>\n",
       "    <tr>\n",
       "      <th>999999</th>\n",
       "      <td>10073</td>\n",
       "      <td>1479</td>\n",
       "      <td>18753</td>\n",
       "      <td>1997</td>\n",
       "      <td>1</td>\n",
       "      <td>0</td>\n",
       "      <td>0</td>\n",
       "      <td>0</td>\n",
       "      <td>0</td>\n",
       "      <td>0</td>\n",
       "      <td>...</td>\n",
       "      <td>1</td>\n",
       "      <td>1</td>\n",
       "      <td>1</td>\n",
       "      <td>0</td>\n",
       "      <td>0</td>\n",
       "      <td>0</td>\n",
       "      <td>0</td>\n",
       "      <td>3.121914</td>\n",
       "      <td>1.048269</td>\n",
       "      <td>324.0</td>\n",
       "    </tr>\n",
       "  </tbody>\n",
       "</table>\n",
       "<p>1000000 rows × 27 columns</p>\n",
       "</div>"
      ],
      "text/plain": [
       "        userId  movieId  title  year  Action  Adventure  Animation  Children  \\\n",
       "0            1      307   7878  1993       0          0          0         0   \n",
       "1            1      481  31901  1993       0          0          0         0   \n",
       "2            1     1091   4643  1989       0          0          0         0   \n",
       "3            1     1257  49324  1985       0          0          0         0   \n",
       "4            1     1449   5104  1996       0          0          0         0   \n",
       "...        ...      ...    ...   ...     ...        ...        ...       ...   \n",
       "999995   10073     1370  42615  1990       1          1          0         0   \n",
       "999996   10073     1377  49959  1992       1          0          0         0   \n",
       "999997   10073     1407   1176  1996       0          0          0         0   \n",
       "999998   10073     1466  42053  1997       0          0          0         0   \n",
       "999999   10073     1479  18753  1997       1          0          0         0   \n",
       "\n",
       "        Comedy  Crime  ...  Romance  Sci-Fi  Thriller  War  Western  \\\n",
       "0            0      0  ...        0       0         0    0        0   \n",
       "1            0      0  ...        0       0         1    0        0   \n",
       "2            1      0  ...        0       0         0    0        0   \n",
       "3            1      0  ...        1       0         0    0        0   \n",
       "4            1      0  ...        0       0         0    0        0   \n",
       "...        ...    ...  ...      ...     ...       ...  ...      ...   \n",
       "999995       0      0  ...        0       0         1    0        0   \n",
       "999996       0      1  ...        0       0         0    0        0   \n",
       "999997       1      0  ...        0       0         1    0        0   \n",
       "999998       0      1  ...        0       0         0    0        0   \n",
       "999999       0      0  ...        1       1         1    0        0   \n",
       "\n",
       "        (no genres listed)  IMAX  rating_mean  rating_std  rating_count  \n",
       "0                        0     0     4.036164    0.959485         318.0  \n",
       "1                        0     0     3.371542    0.886573         253.0  \n",
       "2                        0     0     2.815421    1.122663         214.0  \n",
       "3                        0     0     3.799550    0.921905         222.0  \n",
       "4                        0     0     3.916667    0.974243         246.0  \n",
       "...                    ...   ...          ...         ...           ...  \n",
       "999995                   0     0     3.421875    0.858592         672.0  \n",
       "999996                   0     0     3.131879    0.923484         527.0  \n",
       "999997                   0     0     3.191926    1.131900         706.0  \n",
       "999998                   0     0     3.806977    0.770189         430.0  \n",
       "999999                   0     0     3.121914    1.048269         324.0  \n",
       "\n",
       "[1000000 rows x 27 columns]"
      ]
     },
     "execution_count": 26,
     "metadata": {},
     "output_type": "execute_result"
    }
   ],
   "source": [
    "X = ratings_df.drop('rating', axis=1)\n",
    "X"
   ]
  },
  {
   "cell_type": "code",
   "execution_count": 27,
   "metadata": {
    "execution": {
     "iopub.status.busy": "2023-05-06T23:07:05.414504Z",
     "iopub.status.idle": "2023-05-06T23:07:05.414872Z",
     "shell.execute_reply": "2023-05-06T23:07:05.414718Z",
     "shell.execute_reply.started": "2023-05-06T23:07:05.414700Z"
    }
   },
   "outputs": [
    {
     "data": {
      "text/plain": [
       "0         3.5\n",
       "1         3.5\n",
       "2         1.5\n",
       "3         4.5\n",
       "4         4.5\n",
       "         ... \n",
       "999995    3.5\n",
       "999996    3.5\n",
       "999997    3.0\n",
       "999998    4.0\n",
       "999999    3.0\n",
       "Name: rating, Length: 1000000, dtype: float64"
      ]
     },
     "execution_count": 27,
     "metadata": {},
     "output_type": "execute_result"
    }
   ],
   "source": [
    "y = ratings_df['rating']\n",
    "y"
   ]
  },
  {
   "cell_type": "code",
   "execution_count": 33,
   "metadata": {
    "execution": {
     "iopub.status.busy": "2023-05-06T23:07:05.416079Z",
     "iopub.status.idle": "2023-05-06T23:07:05.416490Z",
     "shell.execute_reply": "2023-05-06T23:07:05.416299Z",
     "shell.execute_reply.started": "2023-05-06T23:07:05.416274Z"
    }
   },
   "outputs": [],
   "source": [
    "X_train, X_valid, y_train, y_valid = train_test_split(X, y, test_size=0.10, shuffle=True)"
   ]
  },
  {
   "cell_type": "code",
   "execution_count": 29,
   "metadata": {
    "execution": {
     "iopub.status.busy": "2023-05-06T23:07:05.417474Z",
     "iopub.status.idle": "2023-05-06T23:07:05.417839Z",
     "shell.execute_reply": "2023-05-06T23:07:05.417678Z",
     "shell.execute_reply.started": "2023-05-06T23:07:05.417661Z"
    }
   },
   "outputs": [],
   "source": [
    "num_users = ratings_df.userId.nunique()\n",
    "num_movies = movies_df.shape[0]\n",
    "num_features = movies_df.shape[1]\n",
    "rows_count = ratings_df.shape[0]\n",
    "emb_size = 32\n",
    "n_features = 5\n",
    "n_genres = len(genres_list)"
   ]
  },
  {
   "cell_type": "code",
   "execution_count": 34,
   "metadata": {
    "execution": {
     "iopub.status.busy": "2023-05-06T23:07:05.419179Z",
     "iopub.status.idle": "2023-05-06T23:07:05.419562Z",
     "shell.execute_reply": "2023-05-06T23:07:05.419405Z",
     "shell.execute_reply.started": "2023-05-06T23:07:05.419387Z"
    }
   },
   "outputs": [],
   "source": [
    "movie_title_input = keras.Input(shape=(1,), name='movie_title')\n",
    "movie_title_emb = layers.Embedding(output_dim=emb_size, input_dim=num_movies+1, input_length=rows_count+1, name='movie_title_emb')(movie_title_input)\n",
    "movie_title_vec = layers.Flatten(name='flatten_movie_title')(movie_title_emb)\n",
    "\n",
    "movie_features_input = keras.Input(shape=(n_genres+n_features,), name='movie_features')\n",
    "\n",
    "movie_vec_concat = layers.Concatenate(name='movie_vec', axis=1)([movie_title_vec, movie_features_input])\n",
    "\n",
    "movie_model = keras.Model(inputs=[movie_title_input, movie_features_input], outputs=movie_vec_concat)\n",
    "\n",
    "user_input = keras.Input(shape=(1,), name='user_id')\n",
    "user_emb = layers.Embedding(output_dim=emb_size + n_genres + n_features, input_dim=num_users+1, input_length=rows_count+1, name='user_emb')(user_input)\n",
    "user_vec = layers.Flatten(name='FlattenUser')(user_emb)\n",
    "\n",
    "user_model = keras.Model(inputs=user_input, outputs=user_vec)\n",
    "\n",
    "merged = layers.Dot(name = 'dot_product', normalize = True, axes=1)([movie_vec_concat, user_vec])\n",
    "merged_dropout = layers.Dropout(0.2)(merged)\n",
    "\n",
    "\n",
    "dense_1 = layers.Dense(256,name='FullyConnected-1')(merged)\n",
    "dropout_1 = layers.Dropout(0.2,name='Dropout_1')(dense_1)\n",
    "\n",
    "dense_2 = layers.Dense(128,name='FullyConnected-2')(dropout_1)\n",
    "dropout_2 = layers.Dropout(0.2,name='Dropout_2')(dense_2)\n",
    "\n",
    "dense_3 = keras.layers.Dense(32,name='FullyConnected-3')(dropout_2)\n",
    "dropout_3 = keras.layers.Dropout(0.2,name='Dropout_3')(dense_3)\n",
    "\n",
    "dense_4 = keras.layers.Dense(8,name='FullyConnected-4', activation='relu')(dropout_3)\n",
    "\n",
    "result = layers.Dense(1, name='result', activation=\"relu\")(dense_4)\n",
    "\n",
    "adam = keras.optimizers.Adam(learning_rate=0.001)\n",
    "model = keras.Model([movie_title_input, movie_features_input, user_input], result)\n",
    "model.compile(optimizer=adam, loss= 'mean_absolute_error', metrics='mean_squared_error')\n"
   ]
  },
  {
   "cell_type": "code",
   "execution_count": 35,
   "metadata": {
    "execution": {
     "iopub.status.busy": "2023-05-06T23:07:05.420696Z",
     "iopub.status.idle": "2023-05-06T23:07:05.421052Z",
     "shell.execute_reply": "2023-05-06T23:07:05.420896Z",
     "shell.execute_reply.started": "2023-05-06T23:07:05.420879Z"
    }
   },
   "outputs": [
    {
     "name": "stdout",
     "output_type": "stream",
     "text": [
      "You must install pydot (`pip install pydot`) and install graphviz (see instructions at https://graphviz.gitlab.io/download/) for plot_model to work.\n"
     ]
    }
   ],
   "source": [
    "keras.utils.plot_model(model, show_shapes=True) "
   ]
  },
  {
   "cell_type": "code",
   "execution_count": 36,
   "metadata": {
    "execution": {
     "iopub.status.busy": "2023-05-06T23:07:05.422029Z",
     "iopub.status.idle": "2023-05-06T23:07:05.422421Z",
     "shell.execute_reply": "2023-05-06T23:07:05.422227Z",
     "shell.execute_reply.started": "2023-05-06T23:07:05.422210Z"
    },
    "scrolled": true
   },
   "outputs": [
    {
     "name": "stdout",
     "output_type": "stream",
     "text": [
      "Epoch 1/50\n",
      "9000/9000 [==============================] - 351s 39ms/step - loss: 0.7888 - mean_squared_error: 1.0688 - val_loss: 0.7682 - val_mean_squared_error: 0.9645\n",
      "Epoch 2/50\n",
      "9000/9000 [==============================] - 348s 39ms/step - loss: 0.7347 - mean_squared_error: 0.9599 - val_loss: 0.7501 - val_mean_squared_error: 0.9435\n",
      "Epoch 3/50\n",
      "9000/9000 [==============================] - 363s 40ms/step - loss: 0.7255 - mean_squared_error: 0.9462 - val_loss: 0.7353 - val_mean_squared_error: 0.9321\n",
      "Epoch 4/50\n",
      "9000/9000 [==============================] - 335s 37ms/step - loss: 0.7186 - mean_squared_error: 0.9365 - val_loss: 0.7268 - val_mean_squared_error: 0.9462\n",
      "Epoch 5/50\n",
      "9000/9000 [==============================] - 337s 37ms/step - loss: 0.7142 - mean_squared_error: 0.9299 - val_loss: 0.7363 - val_mean_squared_error: 0.9268\n",
      "Epoch 6/50\n",
      "9000/9000 [==============================] - 337s 37ms/step - loss: 0.7110 - mean_squared_error: 0.9255 - val_loss: 0.7267 - val_mean_squared_error: 0.9273\n",
      "Epoch 7/50\n",
      "9000/9000 [==============================] - 338s 38ms/step - loss: 0.7088 - mean_squared_error: 0.9222 - val_loss: 0.7219 - val_mean_squared_error: 0.9459\n",
      "Epoch 8/50\n",
      "9000/9000 [==============================] - 336s 37ms/step - loss: 0.7072 - mean_squared_error: 0.9202 - val_loss: 0.7294 - val_mean_squared_error: 0.9287\n",
      "Epoch 9/50\n",
      "9000/9000 [==============================] - 337s 37ms/step - loss: 0.7055 - mean_squared_error: 0.9178 - val_loss: 0.7262 - val_mean_squared_error: 0.9213\n",
      "Epoch 10/50\n",
      "9000/9000 [==============================] - 338s 38ms/step - loss: 0.7043 - mean_squared_error: 0.9156 - val_loss: 0.7236 - val_mean_squared_error: 0.9258\n",
      "Epoch 11/50\n",
      "9000/9000 [==============================] - 335s 37ms/step - loss: 0.7034 - mean_squared_error: 0.9155 - val_loss: 0.7267 - val_mean_squared_error: 0.9241\n",
      "Epoch 12/50\n",
      "9000/9000 [==============================] - 337s 37ms/step - loss: 0.7026 - mean_squared_error: 0.9140 - val_loss: 0.7208 - val_mean_squared_error: 0.9310\n",
      "Epoch 13/50\n",
      "9000/9000 [==============================] - 338s 38ms/step - loss: 0.7017 - mean_squared_error: 0.9126 - val_loss: 0.7227 - val_mean_squared_error: 0.9236\n",
      "Epoch 14/50\n",
      "9000/9000 [==============================] - 338s 38ms/step - loss: 0.7009 - mean_squared_error: 0.9109 - val_loss: 0.7223 - val_mean_squared_error: 0.9260\n",
      "Epoch 15/50\n",
      "9000/9000 [==============================] - 22251s 2s/step - loss: 0.7001 - mean_squared_error: 0.9110 - val_loss: 0.7145 - val_mean_squared_error: 0.9327\n",
      "Epoch 16/50\n",
      "9000/9000 [==============================] - 282s 31ms/step - loss: 0.6977 - mean_squared_error: 0.9125 - val_loss: 0.7165 - val_mean_squared_error: 0.9367\n",
      "Epoch 17/50\n",
      "9000/9000 [==============================] - 293s 33ms/step - loss: 0.6965 - mean_squared_error: 0.9124 - val_loss: 0.7123 - val_mean_squared_error: 0.9489\n",
      "Epoch 18/50\n",
      "9000/9000 [==============================] - 284s 32ms/step - loss: 0.6959 - mean_squared_error: 0.9121 - val_loss: 0.7140 - val_mean_squared_error: 0.9450\n",
      "Epoch 19/50\n",
      "9000/9000 [==============================] - 371s 41ms/step - loss: 0.6950 - mean_squared_error: 0.9109 - val_loss: 0.7131 - val_mean_squared_error: 0.9392\n",
      "Epoch 20/50\n",
      "9000/9000 [==============================] - 339s 38ms/step - loss: 0.6941 - mean_squared_error: 0.9113 - val_loss: 0.7178 - val_mean_squared_error: 0.9336\n",
      "Epoch 21/50\n",
      "9000/9000 [==============================] - 314s 35ms/step - loss: 0.6930 - mean_squared_error: 0.9120 - val_loss: 0.7144 - val_mean_squared_error: 0.9364\n",
      "Epoch 22/50\n",
      "9000/9000 [==============================] - 316s 35ms/step - loss: 0.6923 - mean_squared_error: 0.9110 - val_loss: 0.7113 - val_mean_squared_error: 0.9538\n",
      "Epoch 23/50\n",
      "9000/9000 [==============================] - 314s 35ms/step - loss: 0.6919 - mean_squared_error: 0.9115 - val_loss: 0.7105 - val_mean_squared_error: 0.9507\n",
      "Epoch 24/50\n",
      "9000/9000 [==============================] - 352s 39ms/step - loss: 0.6914 - mean_squared_error: 0.9097 - val_loss: 0.7115 - val_mean_squared_error: 0.9383\n",
      "Epoch 25/50\n",
      "9000/9000 [==============================] - 419s 47ms/step - loss: 0.6910 - mean_squared_error: 0.9092 - val_loss: 0.7118 - val_mean_squared_error: 0.9378\n",
      "Epoch 26/50\n",
      "9000/9000 [==============================] - 466s 52ms/step - loss: 0.6903 - mean_squared_error: 0.9085 - val_loss: 0.7097 - val_mean_squared_error: 0.9464\n",
      "Epoch 27/50\n",
      "9000/9000 [==============================] - 390s 43ms/step - loss: 0.6898 - mean_squared_error: 0.9082 - val_loss: 0.7142 - val_mean_squared_error: 0.9394\n",
      "Epoch 28/50\n",
      "9000/9000 [==============================] - 421s 47ms/step - loss: 0.6893 - mean_squared_error: 0.9066 - val_loss: 0.7090 - val_mean_squared_error: 0.9362\n",
      "Epoch 29/50\n",
      "9000/9000 [==============================] - 440s 49ms/step - loss: 0.6884 - mean_squared_error: 0.9047 - val_loss: 0.7111 - val_mean_squared_error: 0.9347\n",
      "Epoch 30/50\n",
      "9000/9000 [==============================] - 354s 39ms/step - loss: 0.6879 - mean_squared_error: 0.9042 - val_loss: 0.7089 - val_mean_squared_error: 0.9372\n",
      "Epoch 31/50\n",
      "9000/9000 [==============================] - 589s 65ms/step - loss: 0.6870 - mean_squared_error: 0.9021 - val_loss: 0.7074 - val_mean_squared_error: 0.9353\n",
      "Epoch 32/50\n",
      "9000/9000 [==============================] - 451s 50ms/step - loss: 0.6862 - mean_squared_error: 0.9013 - val_loss: 0.7077 - val_mean_squared_error: 0.9377\n",
      "Epoch 33/50\n",
      "9000/9000 [==============================] - 527s 59ms/step - loss: 0.6854 - mean_squared_error: 0.8989 - val_loss: 0.7062 - val_mean_squared_error: 0.9429\n",
      "Epoch 34/50\n",
      "9000/9000 [==============================] - 379s 42ms/step - loss: 0.6846 - mean_squared_error: 0.8969 - val_loss: 0.7042 - val_mean_squared_error: 0.9325\n",
      "Epoch 35/50\n",
      "9000/9000 [==============================] - 362s 40ms/step - loss: 0.6834 - mean_squared_error: 0.8940 - val_loss: 0.7061 - val_mean_squared_error: 0.9351\n",
      "Epoch 36/50\n",
      "9000/9000 [==============================] - 363s 40ms/step - loss: 0.6818 - mean_squared_error: 0.8908 - val_loss: 0.7050 - val_mean_squared_error: 0.9408\n",
      "Epoch 37/50\n",
      "9000/9000 [==============================] - 385s 43ms/step - loss: 0.6809 - mean_squared_error: 0.8877 - val_loss: 0.7017 - val_mean_squared_error: 0.9257\n",
      "Epoch 38/50\n",
      "9000/9000 [==============================] - 545s 61ms/step - loss: 0.6797 - mean_squared_error: 0.8851 - val_loss: 0.7012 - val_mean_squared_error: 0.9284\n",
      "Epoch 39/50\n",
      "9000/9000 [==============================] - 466s 52ms/step - loss: 0.6782 - mean_squared_error: 0.8822 - val_loss: 0.6994 - val_mean_squared_error: 0.9246\n",
      "Epoch 40/50\n",
      "9000/9000 [==============================] - 599s 67ms/step - loss: 0.6766 - mean_squared_error: 0.8782 - val_loss: 0.6979 - val_mean_squared_error: 0.9241\n",
      "Epoch 41/50\n",
      "9000/9000 [==============================] - 368s 41ms/step - loss: 0.6754 - mean_squared_error: 0.8766 - val_loss: 0.7006 - val_mean_squared_error: 0.9388\n",
      "Epoch 42/50\n",
      "9000/9000 [==============================] - 410s 46ms/step - loss: 0.6740 - mean_squared_error: 0.8736 - val_loss: 0.7005 - val_mean_squared_error: 0.9396\n",
      "Epoch 43/50\n",
      "9000/9000 [==============================] - 360s 40ms/step - loss: 0.6729 - mean_squared_error: 0.8704 - val_loss: 0.7023 - val_mean_squared_error: 0.9204\n",
      "Epoch 44/50\n",
      "9000/9000 [==============================] - 405s 45ms/step - loss: 0.6710 - mean_squared_error: 0.8671 - val_loss: 0.6999 - val_mean_squared_error: 0.9305\n",
      "Epoch 45/50\n",
      "9000/9000 [==============================] - 687s 76ms/step - loss: 0.6703 - mean_squared_error: 0.8656 - val_loss: 0.7044 - val_mean_squared_error: 0.9043\n",
      "Epoch 46/50\n",
      "9000/9000 [==============================] - 310s 34ms/step - loss: 0.6685 - mean_squared_error: 0.8624 - val_loss: 0.7013 - val_mean_squared_error: 0.9218\n",
      "Epoch 47/50\n",
      "9000/9000 [==============================] - 321s 36ms/step - loss: 0.6677 - mean_squared_error: 0.8605 - val_loss: 0.6925 - val_mean_squared_error: 0.9069\n",
      "Epoch 48/50\n",
      "9000/9000 [==============================] - 346s 38ms/step - loss: 0.6659 - mean_squared_error: 0.8566 - val_loss: 0.6906 - val_mean_squared_error: 0.9049\n",
      "Epoch 49/50\n",
      "9000/9000 [==============================] - 335s 37ms/step - loss: 0.6650 - mean_squared_error: 0.8556 - val_loss: 0.6954 - val_mean_squared_error: 0.8978\n"
     ]
    },
    {
     "name": "stdout",
     "output_type": "stream",
     "text": [
      "Epoch 50/50\n",
      "9000/9000 [==============================] - 349s 39ms/step - loss: 0.6641 - mean_squared_error: 0.8533 - val_loss: 0.6902 - val_mean_squared_error: 0.8934\n"
     ]
    }
   ],
   "source": [
    "callbacks = [keras.callbacks.EarlyStopping('val_loss', patience=10),\n",
    "             keras.callbacks.ModelCheckpoint('besttest.h5', save_best_only=True)]\n",
    "\n",
    "history = model.fit([X_train.title, X_train.drop(['title', 'userId'], axis=1), X_train['userId']], y_train, batch_size=100,\n",
    "                              epochs=50, validation_data=([X_valid.title, X_valid.drop(['title', 'userId'], axis=1), X_valid['userId']], y_valid),\n",
    "                              verbose=1, \n",
    "                              callbacks = callbacks)"
   ]
  },
  {
   "cell_type": "code",
   "execution_count": 37,
   "metadata": {
    "execution": {
     "iopub.status.busy": "2023-05-06T23:07:05.424073Z",
     "iopub.status.idle": "2023-05-06T23:07:05.424471Z",
     "shell.execute_reply": "2023-05-06T23:07:05.424278Z",
     "shell.execute_reply.started": "2023-05-06T23:07:05.424261Z"
    },
    "scrolled": true
   },
   "outputs": [
    {
     "data": {
      "image/png": "[encoded data removed]",
      "text/plain": [
       "<Figure size 1000x600 with 1 Axes>"
      ]
     },
     "metadata": {},
     "output_type": "display_data"
    }
   ],
   "source": [
    "plt.figure(figsize=(10,6))\n",
    "plt.plot(history.history['loss'] , 'g')\n",
    "plt.title('model loss')\n",
    "plt.ylabel('loss')\n",
    "plt.xlabel('epochs')\n",
    "plt.legend(['train'], loc='upper right')\n",
    "plt.grid(True)\n",
    "plt.show()"
   ]
  },
  {
   "cell_type": "code",
   "execution_count": 39,
   "metadata": {},
   "outputs": [
    {
     "name": "stderr",
     "output_type": "stream",
     "text": [
      "WARNING:absl:Found untraced functions such as _update_step_xla while saving (showing 1 of 1). These functions will not be directly callable after loading.\n"
     ]
    },
    {
     "name": "stdout",
     "output_type": "stream",
     "text": [
      "INFO:tensorflow:Assets written to: model/simple_emb/assets\n"
     ]
    },
    {
     "name": "stderr",
     "output_type": "stream",
     "text": [
      "INFO:tensorflow:Assets written to: model/simple_emb/assets\n"
     ]
    }
   ],
   "source": [
    "model.save('model/simple_emb/')"
   ]
  },
  {
   "cell_type": "code",
   "execution_count": null,
   "metadata": {},
   "outputs": [],
   "source": [
    "X_train.shape"
   ]
  },
  {
   "cell_type": "code",
   "execution_count": null,
   "metadata": {},
   "outputs": [],
   "source": []
  }
 ],
 "metadata": {
  "kernelspec": {
   "display_name": "Python 3 (ipykernel)",
   "language": "python",
   "name": "python3"
  },
  "language_info": {
   "codemirror_mode": {
    "name": "ipython",
    "version": 3
   },
   "file_extension": ".py",
   "mimetype": "text/x-python",
   "name": "python",
   "nbconvert_exporter": "python",
   "pygments_lexer": "ipython3",
   "version": "3.9.13"
  }
 },
 "nbformat": 4,
 "nbformat_minor": 4
}
