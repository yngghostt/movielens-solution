{
 "cells": [
  {
   "cell_type": "markdown",
   "metadata": {},
   "source": [
    "# <center>Рекомендательная система на основе эмбеддингов для датасета MovieLens</center>"
   ]
  },
  {
   "cell_type": "markdown",
   "metadata": {},
   "source": [
    "# Первичный анализ и предобработка данных"
   ]
  },
  {
   "cell_type": "code",
   "execution_count": 14,
   "metadata": {
    "_cell_guid": "b1076dfc-b9ad-4769-8c92-a6c4dae69d19",
    "_uuid": "8f2839f25d086af736a60e9eeb907d3b93b6e0e5",
    "execution": {
     "iopub.execute_input": "2023-05-06T23:06:53.298634Z",
     "iopub.status.busy": "2023-05-06T23:06:53.297943Z",
     "iopub.status.idle": "2023-05-06T23:06:53.333273Z",
     "shell.execute_reply": "2023-05-06T23:06:53.332329Z",
     "shell.execute_reply.started": "2023-05-06T23:06:53.298333Z"
    }
   },
   "outputs": [],
   "source": [
    "import numpy as np\n",
    "import pandas as pd\n",
    "\n",
    "import matplotlib.pyplot as plt\n",
    "import seaborn as sns\n",
    "%matplotlib inline"
   ]
  },
  {
   "cell_type": "code",
   "execution_count": 2,
   "metadata": {
    "execution": {
     "iopub.execute_input": "2023-05-06T23:06:53.336124Z",
     "iopub.status.busy": "2023-05-06T23:06:53.335181Z",
     "iopub.status.idle": "2023-05-06T23:06:53.340791Z",
     "shell.execute_reply": "2023-05-06T23:06:53.339282Z",
     "shell.execute_reply.started": "2023-05-06T23:06:53.336089Z"
    }
   },
   "outputs": [],
   "source": [
    "import re\n",
    "import tqdm"
   ]
  },
  {
   "cell_type": "markdown",
   "metadata": {},
   "source": [
    "## Загрузка данных"
   ]
  },
  {
   "cell_type": "code",
   "execution_count": 16,
   "metadata": {
    "execution": {
     "iopub.execute_input": "2023-05-06T23:06:53.364368Z",
     "iopub.status.busy": "2023-05-06T23:06:53.363755Z",
     "iopub.status.idle": "2023-05-06T23:06:53.537309Z",
     "shell.execute_reply": "2023-05-06T23:06:53.536203Z",
     "shell.execute_reply.started": "2023-05-06T23:06:53.364322Z"
    }
   },
   "outputs": [
    {
     "data": {
      "text/html": [
       "<div>\n",
       "<style scoped>\n",
       "    .dataframe tbody tr th:only-of-type {\n",
       "        vertical-align: middle;\n",
       "    }\n",
       "\n",
       "    .dataframe tbody tr th {\n",
       "        vertical-align: top;\n",
       "    }\n",
       "\n",
       "    .dataframe thead th {\n",
       "        text-align: right;\n",
       "    }\n",
       "</style>\n",
       "<table border=\"1\" class=\"dataframe\">\n",
       "  <thead>\n",
       "    <tr style=\"text-align: right;\">\n",
       "      <th></th>\n",
       "      <th>title</th>\n",
       "      <th>genres</th>\n",
       "    </tr>\n",
       "    <tr>\n",
       "      <th>movieId</th>\n",
       "      <th></th>\n",
       "      <th></th>\n",
       "    </tr>\n",
       "  </thead>\n",
       "  <tbody>\n",
       "    <tr>\n",
       "      <th>1</th>\n",
       "      <td>Toy Story (1995)</td>\n",
       "      <td>Adventure|Animation|Children|Comedy|Fantasy</td>\n",
       "    </tr>\n",
       "    <tr>\n",
       "      <th>2</th>\n",
       "      <td>Jumanji (1995)</td>\n",
       "      <td>Adventure|Children|Fantasy</td>\n",
       "    </tr>\n",
       "    <tr>\n",
       "      <th>3</th>\n",
       "      <td>Grumpier Old Men (1995)</td>\n",
       "      <td>Comedy|Romance</td>\n",
       "    </tr>\n",
       "    <tr>\n",
       "      <th>4</th>\n",
       "      <td>Waiting to Exhale (1995)</td>\n",
       "      <td>Comedy|Drama|Romance</td>\n",
       "    </tr>\n",
       "    <tr>\n",
       "      <th>5</th>\n",
       "      <td>Father of the Bride Part II (1995)</td>\n",
       "      <td>Comedy</td>\n",
       "    </tr>\n",
       "  </tbody>\n",
       "</table>\n",
       "</div>"
      ],
      "text/plain": [
       "                                      title  \\\n",
       "movieId                                       \n",
       "1                          Toy Story (1995)   \n",
       "2                            Jumanji (1995)   \n",
       "3                   Grumpier Old Men (1995)   \n",
       "4                  Waiting to Exhale (1995)   \n",
       "5        Father of the Bride Part II (1995)   \n",
       "\n",
       "                                              genres  \n",
       "movieId                                               \n",
       "1        Adventure|Animation|Children|Comedy|Fantasy  \n",
       "2                         Adventure|Children|Fantasy  \n",
       "3                                     Comedy|Romance  \n",
       "4                               Comedy|Drama|Romance  \n",
       "5                                             Comedy  "
      ]
     },
     "execution_count": 16,
     "metadata": {},
     "output_type": "execute_result"
    }
   ],
   "source": [
    "movies_df = pd.read_csv(\"ml-latest\\movies.csv\", index_col='movieId')\n",
    "movies_df.head()"
   ]
  },
  {
   "cell_type": "code",
   "execution_count": 17,
   "metadata": {},
   "outputs": [
    {
     "data": {
      "text/plain": [
       "(58098, 2)"
      ]
     },
     "execution_count": 17,
     "metadata": {},
     "output_type": "execute_result"
    }
   ],
   "source": [
    "movies_df.shape"
   ]
  },
  {
   "cell_type": "code",
   "execution_count": 4,
   "metadata": {
    "execution": {
     "iopub.execute_input": "2023-05-06T23:06:53.540853Z",
     "iopub.status.busy": "2023-05-06T23:06:53.539361Z",
     "iopub.status.idle": "2023-05-06T23:06:53.545565Z",
     "shell.execute_reply": "2023-05-06T23:06:53.544404Z",
     "shell.execute_reply.started": "2023-05-06T23:06:53.540808Z"
    }
   },
   "outputs": [],
   "source": [
    "#tags_df = pd.read_csv('/kaggle/input/grouplens-2018/ml-latest/tags.csv')\n",
    "#tags_df.head()"
   ]
  },
  {
   "cell_type": "code",
   "execution_count": 4,
   "metadata": {
    "execution": {
     "iopub.execute_input": "2023-05-06T23:06:53.547394Z",
     "iopub.status.busy": "2023-05-06T23:06:53.546948Z",
     "iopub.status.idle": "2023-05-06T23:07:05.365975Z",
     "shell.execute_reply": "2023-05-06T23:07:05.361420Z",
     "shell.execute_reply.started": "2023-05-06T23:06:53.547355Z"
    },
    "scrolled": true
   },
   "outputs": [
    {
     "data": {
      "text/html": [
       "<div>\n",
       "<style scoped>\n",
       "    .dataframe tbody tr th:only-of-type {\n",
       "        vertical-align: middle;\n",
       "    }\n",
       "\n",
       "    .dataframe tbody tr th {\n",
       "        vertical-align: top;\n",
       "    }\n",
       "\n",
       "    .dataframe thead th {\n",
       "        text-align: right;\n",
       "    }\n",
       "</style>\n",
       "<table border=\"1\" class=\"dataframe\">\n",
       "  <thead>\n",
       "    <tr style=\"text-align: right;\">\n",
       "      <th></th>\n",
       "      <th>userId</th>\n",
       "      <th>movieId</th>\n",
       "      <th>rating</th>\n",
       "      <th>timestamp</th>\n",
       "    </tr>\n",
       "  </thead>\n",
       "  <tbody>\n",
       "    <tr>\n",
       "      <th>0</th>\n",
       "      <td>1</td>\n",
       "      <td>307</td>\n",
       "      <td>3.5</td>\n",
       "      <td>1256677221</td>\n",
       "    </tr>\n",
       "    <tr>\n",
       "      <th>1</th>\n",
       "      <td>1</td>\n",
       "      <td>481</td>\n",
       "      <td>3.5</td>\n",
       "      <td>1256677456</td>\n",
       "    </tr>\n",
       "    <tr>\n",
       "      <th>2</th>\n",
       "      <td>1</td>\n",
       "      <td>1091</td>\n",
       "      <td>1.5</td>\n",
       "      <td>1256677471</td>\n",
       "    </tr>\n",
       "    <tr>\n",
       "      <th>3</th>\n",
       "      <td>1</td>\n",
       "      <td>1257</td>\n",
       "      <td>4.5</td>\n",
       "      <td>1256677460</td>\n",
       "    </tr>\n",
       "    <tr>\n",
       "      <th>4</th>\n",
       "      <td>1</td>\n",
       "      <td>1449</td>\n",
       "      <td>4.5</td>\n",
       "      <td>1256677264</td>\n",
       "    </tr>\n",
       "  </tbody>\n",
       "</table>\n",
       "</div>"
      ],
      "text/plain": [
       "   userId  movieId  rating   timestamp\n",
       "0       1      307     3.5  1256677221\n",
       "1       1      481     3.5  1256677456\n",
       "2       1     1091     1.5  1256677471\n",
       "3       1     1257     4.5  1256677460\n",
       "4       1     1449     4.5  1256677264"
      ]
     },
     "execution_count": 4,
     "metadata": {},
     "output_type": "execute_result"
    }
   ],
   "source": [
    "ratings_df = pd.read_csv(r\"ml-latest\\ratings.csv\").iloc[:1_000_000]\n",
    "ratings_df.head()"
   ]
  },
  {
   "cell_type": "code",
   "execution_count": 5,
   "metadata": {
    "execution": {
     "iopub.status.busy": "2023-05-06T23:07:05.366785Z",
     "iopub.status.idle": "2023-05-06T23:07:05.367179Z",
     "shell.execute_reply": "2023-05-06T23:07:05.367009Z",
     "shell.execute_reply.started": "2023-05-06T23:07:05.366991Z"
    }
   },
   "outputs": [
    {
     "name": "stdout",
     "output_type": "stream",
     "text": [
      "<class 'pandas.core.frame.DataFrame'>\n",
      "RangeIndex: 1000000 entries, 0 to 999999\n",
      "Data columns (total 4 columns):\n",
      " #   Column     Non-Null Count    Dtype  \n",
      "---  ------     --------------    -----  \n",
      " 0   userId     1000000 non-null  int64  \n",
      " 1   movieId    1000000 non-null  int64  \n",
      " 2   rating     1000000 non-null  float64\n",
      " 3   timestamp  1000000 non-null  int64  \n",
      "dtypes: float64(1), int64(3)\n",
      "memory usage: 30.5 MB\n"
     ]
    }
   ],
   "source": [
    "ratings_df.info()"
   ]
  },
  {
   "cell_type": "markdown",
   "metadata": {},
   "source": [
    "## Обработка датасета с фильмами"
   ]
  },
  {
   "cell_type": "code",
   "execution_count": 6,
   "metadata": {
    "execution": {
     "iopub.status.busy": "2023-05-06T23:07:05.368362Z",
     "iopub.status.idle": "2023-05-06T23:07:05.368871Z",
     "shell.execute_reply": "2023-05-06T23:07:05.368635Z",
     "shell.execute_reply.started": "2023-05-06T23:07:05.368610Z"
    }
   },
   "outputs": [],
   "source": [
    "genres_list = ['Action', 'Adventure','Animation',\"Children\", 'Comedy', 'Crime', 'Documentary', 'Drama', 'Fantasy', 'Film-Noir', 'Horror', 'Musical', \n",
    "               'Mystery', 'Romance', 'Sci-Fi', 'Thriller', 'War', 'Western', '(no genres listed)', 'IMAX']"
   ]
  },
  {
   "cell_type": "code",
   "execution_count": 7,
   "metadata": {
    "execution": {
     "iopub.status.busy": "2023-05-06T23:07:05.370426Z",
     "iopub.status.idle": "2023-05-06T23:07:05.371443Z",
     "shell.execute_reply": "2023-05-06T23:07:05.371173Z",
     "shell.execute_reply.started": "2023-05-06T23:07:05.371147Z"
    }
   },
   "outputs": [],
   "source": [
    "movies_df['year'] = 0\n",
    "movies_df['year'] = movies_df['year'].astype(int)\n",
    "\n",
    "for genre in genres_list:\n",
    "    movies_df[genre] = 0\n",
    "    movies_df[genre] = movies_df[genre].astype(int)"
   ]
  },
  {
   "cell_type": "markdown",
   "metadata": {},
   "source": [
    "Применение one-hot one hot encoding для кодирования жанров"
   ]
  },
  {
   "cell_type": "code",
   "execution_count": 8,
   "metadata": {
    "execution": {
     "iopub.status.busy": "2023-05-06T23:07:05.372660Z",
     "iopub.status.idle": "2023-05-06T23:07:05.373135Z",
     "shell.execute_reply": "2023-05-06T23:07:05.372913Z",
     "shell.execute_reply.started": "2023-05-06T23:07:05.372889Z"
    }
   },
   "outputs": [
    {
     "name": "stderr",
     "output_type": "stream",
     "text": [
      "58098it [00:24, 2405.74it/s]\n"
     ]
    }
   ],
   "source": [
    "for index, row in tqdm.tqdm(movies_df.iterrows()):\n",
    "    movieId = index\n",
    "    title = row.title\n",
    "    matcher = re.compile('\\s*\\(\\d{4}\\)')\n",
    "    if matcher.search(title) is not None:\n",
    "        parenthesis_year = matcher.search(title).group(0)\n",
    "        matcher = re.compile('\\s*\\d{4}')\n",
    "        year = matcher.search(parenthesis_year).group(0)\n",
    "        movies_df.loc[index, 'year'] = int(year)\n",
    "        movies_df.loc[index, 'title'] = re.sub(r'\\s*\\(\\d{4}\\)', \"\", title)\n",
    "    \n",
    "    try:\n",
    "        genres = row.genres.split('|') \n",
    "    except Exception:\n",
    "        genres = list(row.genres)\n",
    "    \n",
    "    for genre in genres:\n",
    "        movies_df.loc[index, genre] = 1\n",
    "    "
   ]
  },
  {
   "cell_type": "code",
   "execution_count": 9,
   "metadata": {
    "execution": {
     "iopub.status.busy": "2023-05-06T23:07:05.374591Z",
     "iopub.status.idle": "2023-05-06T23:07:05.375472Z",
     "shell.execute_reply": "2023-05-06T23:07:05.375202Z",
     "shell.execute_reply.started": "2023-05-06T23:07:05.375171Z"
    }
   },
   "outputs": [
    {
     "data": {
      "text/html": [
       "<div>\n",
       "<style scoped>\n",
       "    .dataframe tbody tr th:only-of-type {\n",
       "        vertical-align: middle;\n",
       "    }\n",
       "\n",
       "    .dataframe tbody tr th {\n",
       "        vertical-align: top;\n",
       "    }\n",
       "\n",
       "    .dataframe thead th {\n",
       "        text-align: right;\n",
       "    }\n",
       "</style>\n",
       "<table border=\"1\" class=\"dataframe\">\n",
       "  <thead>\n",
       "    <tr style=\"text-align: right;\">\n",
       "      <th></th>\n",
       "      <th>title</th>\n",
       "      <th>year</th>\n",
       "      <th>Action</th>\n",
       "      <th>Adventure</th>\n",
       "      <th>Animation</th>\n",
       "      <th>Children</th>\n",
       "      <th>Comedy</th>\n",
       "      <th>Crime</th>\n",
       "      <th>Documentary</th>\n",
       "      <th>Drama</th>\n",
       "      <th>...</th>\n",
       "      <th>Horror</th>\n",
       "      <th>Musical</th>\n",
       "      <th>Mystery</th>\n",
       "      <th>Romance</th>\n",
       "      <th>Sci-Fi</th>\n",
       "      <th>Thriller</th>\n",
       "      <th>War</th>\n",
       "      <th>Western</th>\n",
       "      <th>(no genres listed)</th>\n",
       "      <th>IMAX</th>\n",
       "    </tr>\n",
       "    <tr>\n",
       "      <th>movieId</th>\n",
       "      <th></th>\n",
       "      <th></th>\n",
       "      <th></th>\n",
       "      <th></th>\n",
       "      <th></th>\n",
       "      <th></th>\n",
       "      <th></th>\n",
       "      <th></th>\n",
       "      <th></th>\n",
       "      <th></th>\n",
       "      <th></th>\n",
       "      <th></th>\n",
       "      <th></th>\n",
       "      <th></th>\n",
       "      <th></th>\n",
       "      <th></th>\n",
       "      <th></th>\n",
       "      <th></th>\n",
       "      <th></th>\n",
       "      <th></th>\n",
       "      <th></th>\n",
       "    </tr>\n",
       "  </thead>\n",
       "  <tbody>\n",
       "    <tr>\n",
       "      <th>1</th>\n",
       "      <td>Toy Story</td>\n",
       "      <td>1995</td>\n",
       "      <td>0</td>\n",
       "      <td>1</td>\n",
       "      <td>1</td>\n",
       "      <td>1</td>\n",
       "      <td>1</td>\n",
       "      <td>0</td>\n",
       "      <td>0</td>\n",
       "      <td>0</td>\n",
       "      <td>...</td>\n",
       "      <td>0</td>\n",
       "      <td>0</td>\n",
       "      <td>0</td>\n",
       "      <td>0</td>\n",
       "      <td>0</td>\n",
       "      <td>0</td>\n",
       "      <td>0</td>\n",
       "      <td>0</td>\n",
       "      <td>0</td>\n",
       "      <td>0</td>\n",
       "    </tr>\n",
       "    <tr>\n",
       "      <th>2</th>\n",
       "      <td>Jumanji</td>\n",
       "      <td>1995</td>\n",
       "      <td>0</td>\n",
       "      <td>1</td>\n",
       "      <td>0</td>\n",
       "      <td>1</td>\n",
       "      <td>0</td>\n",
       "      <td>0</td>\n",
       "      <td>0</td>\n",
       "      <td>0</td>\n",
       "      <td>...</td>\n",
       "      <td>0</td>\n",
       "      <td>0</td>\n",
       "      <td>0</td>\n",
       "      <td>0</td>\n",
       "      <td>0</td>\n",
       "      <td>0</td>\n",
       "      <td>0</td>\n",
       "      <td>0</td>\n",
       "      <td>0</td>\n",
       "      <td>0</td>\n",
       "    </tr>\n",
       "    <tr>\n",
       "      <th>3</th>\n",
       "      <td>Grumpier Old Men</td>\n",
       "      <td>1995</td>\n",
       "      <td>0</td>\n",
       "      <td>0</td>\n",
       "      <td>0</td>\n",
       "      <td>0</td>\n",
       "      <td>1</td>\n",
       "      <td>0</td>\n",
       "      <td>0</td>\n",
       "      <td>0</td>\n",
       "      <td>...</td>\n",
       "      <td>0</td>\n",
       "      <td>0</td>\n",
       "      <td>0</td>\n",
       "      <td>1</td>\n",
       "      <td>0</td>\n",
       "      <td>0</td>\n",
       "      <td>0</td>\n",
       "      <td>0</td>\n",
       "      <td>0</td>\n",
       "      <td>0</td>\n",
       "    </tr>\n",
       "    <tr>\n",
       "      <th>4</th>\n",
       "      <td>Waiting to Exhale</td>\n",
       "      <td>1995</td>\n",
       "      <td>0</td>\n",
       "      <td>0</td>\n",
       "      <td>0</td>\n",
       "      <td>0</td>\n",
       "      <td>1</td>\n",
       "      <td>0</td>\n",
       "      <td>0</td>\n",
       "      <td>1</td>\n",
       "      <td>...</td>\n",
       "      <td>0</td>\n",
       "      <td>0</td>\n",
       "      <td>0</td>\n",
       "      <td>1</td>\n",
       "      <td>0</td>\n",
       "      <td>0</td>\n",
       "      <td>0</td>\n",
       "      <td>0</td>\n",
       "      <td>0</td>\n",
       "      <td>0</td>\n",
       "    </tr>\n",
       "    <tr>\n",
       "      <th>5</th>\n",
       "      <td>Father of the Bride Part II</td>\n",
       "      <td>1995</td>\n",
       "      <td>0</td>\n",
       "      <td>0</td>\n",
       "      <td>0</td>\n",
       "      <td>0</td>\n",
       "      <td>1</td>\n",
       "      <td>0</td>\n",
       "      <td>0</td>\n",
       "      <td>0</td>\n",
       "      <td>...</td>\n",
       "      <td>0</td>\n",
       "      <td>0</td>\n",
       "      <td>0</td>\n",
       "      <td>0</td>\n",
       "      <td>0</td>\n",
       "      <td>0</td>\n",
       "      <td>0</td>\n",
       "      <td>0</td>\n",
       "      <td>0</td>\n",
       "      <td>0</td>\n",
       "    </tr>\n",
       "  </tbody>\n",
       "</table>\n",
       "<p>5 rows × 22 columns</p>\n",
       "</div>"
      ],
      "text/plain": [
       "                               title  year  Action  Adventure  Animation  \\\n",
       "movieId                                                                    \n",
       "1                          Toy Story  1995       0          1          1   \n",
       "2                            Jumanji  1995       0          1          0   \n",
       "3                   Grumpier Old Men  1995       0          0          0   \n",
       "4                  Waiting to Exhale  1995       0          0          0   \n",
       "5        Father of the Bride Part II  1995       0          0          0   \n",
       "\n",
       "         Children  Comedy  Crime  Documentary  Drama  ...  Horror  Musical  \\\n",
       "movieId                                               ...                    \n",
       "1               1       1      0            0      0  ...       0        0   \n",
       "2               1       0      0            0      0  ...       0        0   \n",
       "3               0       1      0            0      0  ...       0        0   \n",
       "4               0       1      0            0      1  ...       0        0   \n",
       "5               0       1      0            0      0  ...       0        0   \n",
       "\n",
       "         Mystery  Romance  Sci-Fi  Thriller  War  Western  (no genres listed)  \\\n",
       "movieId                                                                         \n",
       "1              0        0       0         0    0        0                   0   \n",
       "2              0        0       0         0    0        0                   0   \n",
       "3              0        1       0         0    0        0                   0   \n",
       "4              0        1       0         0    0        0                   0   \n",
       "5              0        0       0         0    0        0                   0   \n",
       "\n",
       "         IMAX  \n",
       "movieId        \n",
       "1           0  \n",
       "2           0  \n",
       "3           0  \n",
       "4           0  \n",
       "5           0  \n",
       "\n",
       "[5 rows x 22 columns]"
      ]
     },
     "execution_count": 9,
     "metadata": {},
     "output_type": "execute_result"
    }
   ],
   "source": [
    "movies_df = movies_df.drop('genres', axis=1)\n",
    "movies_df.head()"
   ]
  },
  {
   "cell_type": "code",
   "execution_count": 10,
   "metadata": {
    "execution": {
     "iopub.status.busy": "2023-05-06T23:07:05.378458Z",
     "iopub.status.idle": "2023-05-06T23:07:05.379495Z",
     "shell.execute_reply": "2023-05-06T23:07:05.379219Z",
     "shell.execute_reply.started": "2023-05-06T23:07:05.379192Z"
    }
   },
   "outputs": [
    {
     "name": "stdout",
     "output_type": "stream",
     "text": [
      "<class 'pandas.core.frame.DataFrame'>\n",
      "Int64Index: 58098 entries, 1 to 193886\n",
      "Data columns (total 22 columns):\n",
      " #   Column              Non-Null Count  Dtype \n",
      "---  ------              --------------  ----- \n",
      " 0   title               58098 non-null  object\n",
      " 1   year                58098 non-null  int32 \n",
      " 2   Action              58098 non-null  int32 \n",
      " 3   Adventure           58098 non-null  int32 \n",
      " 4   Animation           58098 non-null  int32 \n",
      " 5   Children            58098 non-null  int32 \n",
      " 6   Comedy              58098 non-null  int32 \n",
      " 7   Crime               58098 non-null  int32 \n",
      " 8   Documentary         58098 non-null  int32 \n",
      " 9   Drama               58098 non-null  int32 \n",
      " 10  Fantasy             58098 non-null  int32 \n",
      " 11  Film-Noir           58098 non-null  int32 \n",
      " 12  Horror              58098 non-null  int32 \n",
      " 13  Musical             58098 non-null  int32 \n",
      " 14  Mystery             58098 non-null  int32 \n",
      " 15  Romance             58098 non-null  int32 \n",
      " 16  Sci-Fi              58098 non-null  int32 \n",
      " 17  Thriller            58098 non-null  int32 \n",
      " 18  War                 58098 non-null  int32 \n",
      " 19  Western             58098 non-null  int32 \n",
      " 20  (no genres listed)  58098 non-null  int32 \n",
      " 21  IMAX                58098 non-null  int32 \n",
      "dtypes: int32(21), object(1)\n",
      "memory usage: 7.6+ MB\n"
     ]
    }
   ],
   "source": [
    "movies_df.info()"
   ]
  },
  {
   "cell_type": "markdown",
   "metadata": {},
   "source": [
    "Вычисления средней оценки, стандартного отклонения и числа оценок"
   ]
  },
  {
   "cell_type": "code",
   "execution_count": 11,
   "metadata": {
    "execution": {
     "iopub.status.busy": "2023-05-06T23:07:05.381122Z",
     "iopub.status.idle": "2023-05-06T23:07:05.381877Z",
     "shell.execute_reply": "2023-05-06T23:07:05.381654Z",
     "shell.execute_reply.started": "2023-05-06T23:07:05.381629Z"
    }
   },
   "outputs": [
    {
     "data": {
      "text/html": [
       "<div>\n",
       "<style scoped>\n",
       "    .dataframe tbody tr th:only-of-type {\n",
       "        vertical-align: middle;\n",
       "    }\n",
       "\n",
       "    .dataframe tbody tr th {\n",
       "        vertical-align: top;\n",
       "    }\n",
       "\n",
       "    .dataframe thead th {\n",
       "        text-align: right;\n",
       "    }\n",
       "</style>\n",
       "<table border=\"1\" class=\"dataframe\">\n",
       "  <thead>\n",
       "    <tr style=\"text-align: right;\">\n",
       "      <th></th>\n",
       "      <th>rating_mean</th>\n",
       "      <th>rating_std</th>\n",
       "      <th>rating_count</th>\n",
       "    </tr>\n",
       "    <tr>\n",
       "      <th>movieId</th>\n",
       "      <th></th>\n",
       "      <th></th>\n",
       "      <th></th>\n",
       "    </tr>\n",
       "  </thead>\n",
       "  <tbody>\n",
       "    <tr>\n",
       "      <th>1</th>\n",
       "      <td>3.891454</td>\n",
       "      <td>0.917794</td>\n",
       "      <td>2469</td>\n",
       "    </tr>\n",
       "    <tr>\n",
       "      <th>2</th>\n",
       "      <td>3.231282</td>\n",
       "      <td>0.959175</td>\n",
       "      <td>975</td>\n",
       "    </tr>\n",
       "    <tr>\n",
       "      <th>3</th>\n",
       "      <td>3.190355</td>\n",
       "      <td>0.999860</td>\n",
       "      <td>591</td>\n",
       "    </tr>\n",
       "    <tr>\n",
       "      <th>4</th>\n",
       "      <td>2.995902</td>\n",
       "      <td>1.031520</td>\n",
       "      <td>122</td>\n",
       "    </tr>\n",
       "    <tr>\n",
       "      <th>5</th>\n",
       "      <td>3.032907</td>\n",
       "      <td>1.034132</td>\n",
       "      <td>547</td>\n",
       "    </tr>\n",
       "  </tbody>\n",
       "</table>\n",
       "</div>"
      ],
      "text/plain": [
       "         rating_mean  rating_std  rating_count\n",
       "movieId                                       \n",
       "1           3.891454    0.917794          2469\n",
       "2           3.231282    0.959175           975\n",
       "3           3.190355    0.999860           591\n",
       "4           2.995902    1.031520           122\n",
       "5           3.032907    1.034132           547"
      ]
     },
     "execution_count": 11,
     "metadata": {},
     "output_type": "execute_result"
    }
   ],
   "source": [
    "ratings_df_grouped = ratings_df.groupby('movieId').agg({'rating': ['mean', 'std', 'count']})\n",
    "ratings_df_grouped.columns = ['rating_mean', 'rating_std', 'rating_count']\n",
    "ratings_df_grouped['rating_count'] = ratings_df_grouped['rating_count'].astype(int)\n",
    "ratings_df_grouped.head()"
   ]
  },
  {
   "cell_type": "code",
   "execution_count": 12,
   "metadata": {
    "execution": {
     "iopub.status.busy": "2023-05-06T23:07:05.383008Z",
     "iopub.status.idle": "2023-05-06T23:07:05.383801Z",
     "shell.execute_reply": "2023-05-06T23:07:05.383550Z",
     "shell.execute_reply.started": "2023-05-06T23:07:05.383521Z"
    }
   },
   "outputs": [
    {
     "name": "stdout",
     "output_type": "stream",
     "text": [
      "<class 'pandas.core.frame.DataFrame'>\n",
      "Int64Index: 22031 entries, 1 to 193861\n",
      "Data columns (total 3 columns):\n",
      " #   Column        Non-Null Count  Dtype  \n",
      "---  ------        --------------  -----  \n",
      " 0   rating_mean   22031 non-null  float64\n",
      " 1   rating_std    15140 non-null  float64\n",
      " 2   rating_count  22031 non-null  int32  \n",
      "dtypes: float64(2), int32(1)\n",
      "memory usage: 602.4 KB\n"
     ]
    }
   ],
   "source": [
    "ratings_df_grouped.info()"
   ]
  },
  {
   "cell_type": "markdown",
   "metadata": {},
   "source": [
    "Если дана одна оценка фильма - стандартное отклонение не определено"
   ]
  },
  {
   "cell_type": "code",
   "execution_count": 13,
   "metadata": {
    "execution": {
     "iopub.status.busy": "2023-05-06T23:07:05.385734Z",
     "iopub.status.idle": "2023-05-06T23:07:05.386265Z",
     "shell.execute_reply": "2023-05-06T23:07:05.386012Z",
     "shell.execute_reply.started": "2023-05-06T23:07:05.385987Z"
    }
   },
   "outputs": [
    {
     "data": {
      "text/html": [
       "<div>\n",
       "<style scoped>\n",
       "    .dataframe tbody tr th:only-of-type {\n",
       "        vertical-align: middle;\n",
       "    }\n",
       "\n",
       "    .dataframe tbody tr th {\n",
       "        vertical-align: top;\n",
       "    }\n",
       "\n",
       "    .dataframe thead th {\n",
       "        text-align: right;\n",
       "    }\n",
       "</style>\n",
       "<table border=\"1\" class=\"dataframe\">\n",
       "  <thead>\n",
       "    <tr style=\"text-align: right;\">\n",
       "      <th></th>\n",
       "      <th>rating_mean</th>\n",
       "      <th>rating_std</th>\n",
       "      <th>rating_count</th>\n",
       "    </tr>\n",
       "    <tr>\n",
       "      <th>movieId</th>\n",
       "      <th></th>\n",
       "      <th></th>\n",
       "      <th></th>\n",
       "    </tr>\n",
       "  </thead>\n",
       "  <tbody>\n",
       "  </tbody>\n",
       "</table>\n",
       "</div>"
      ],
      "text/plain": [
       "Empty DataFrame\n",
       "Columns: [rating_mean, rating_std, rating_count]\n",
       "Index: []"
      ]
     },
     "execution_count": 13,
     "metadata": {},
     "output_type": "execute_result"
    }
   ],
   "source": [
    "ratings_df_grouped[(ratings_df_grouped['rating_std'].isnull()) & (ratings_df_grouped['rating_count'] != 1)]"
   ]
  },
  {
   "cell_type": "code",
   "execution_count": 14,
   "metadata": {
    "execution": {
     "iopub.status.busy": "2023-05-06T23:07:05.388126Z",
     "iopub.status.idle": "2023-05-06T23:07:05.388742Z",
     "shell.execute_reply": "2023-05-06T23:07:05.388510Z",
     "shell.execute_reply.started": "2023-05-06T23:07:05.388484Z"
    }
   },
   "outputs": [],
   "source": [
    "ratings_df_grouped['rating_std'] = ratings_df_grouped['rating_std'].fillna(0)"
   ]
  },
  {
   "cell_type": "code",
   "execution_count": 15,
   "metadata": {
    "execution": {
     "iopub.status.busy": "2023-05-06T23:07:05.390265Z",
     "iopub.status.idle": "2023-05-06T23:07:05.391398Z",
     "shell.execute_reply": "2023-05-06T23:07:05.391128Z",
     "shell.execute_reply.started": "2023-05-06T23:07:05.391098Z"
    }
   },
   "outputs": [],
   "source": [
    "movies_df = movies_df.join(ratings_df_grouped)"
   ]
  },
  {
   "cell_type": "code",
   "execution_count": 16,
   "metadata": {
    "execution": {
     "iopub.status.busy": "2023-05-06T23:07:05.392838Z",
     "iopub.status.idle": "2023-05-06T23:07:05.393621Z",
     "shell.execute_reply": "2023-05-06T23:07:05.393381Z",
     "shell.execute_reply.started": "2023-05-06T23:07:05.393354Z"
    }
   },
   "outputs": [
    {
     "data": {
      "text/html": [
       "<div>\n",
       "<style scoped>\n",
       "    .dataframe tbody tr th:only-of-type {\n",
       "        vertical-align: middle;\n",
       "    }\n",
       "\n",
       "    .dataframe tbody tr th {\n",
       "        vertical-align: top;\n",
       "    }\n",
       "\n",
       "    .dataframe thead th {\n",
       "        text-align: right;\n",
       "    }\n",
       "</style>\n",
       "<table border=\"1\" class=\"dataframe\">\n",
       "  <thead>\n",
       "    <tr style=\"text-align: right;\">\n",
       "      <th></th>\n",
       "      <th>title</th>\n",
       "      <th>year</th>\n",
       "      <th>Action</th>\n",
       "      <th>Adventure</th>\n",
       "      <th>Animation</th>\n",
       "      <th>Children</th>\n",
       "      <th>Comedy</th>\n",
       "      <th>Crime</th>\n",
       "      <th>Documentary</th>\n",
       "      <th>Drama</th>\n",
       "      <th>...</th>\n",
       "      <th>Romance</th>\n",
       "      <th>Sci-Fi</th>\n",
       "      <th>Thriller</th>\n",
       "      <th>War</th>\n",
       "      <th>Western</th>\n",
       "      <th>(no genres listed)</th>\n",
       "      <th>IMAX</th>\n",
       "      <th>rating_mean</th>\n",
       "      <th>rating_std</th>\n",
       "      <th>rating_count</th>\n",
       "    </tr>\n",
       "    <tr>\n",
       "      <th>movieId</th>\n",
       "      <th></th>\n",
       "      <th></th>\n",
       "      <th></th>\n",
       "      <th></th>\n",
       "      <th></th>\n",
       "      <th></th>\n",
       "      <th></th>\n",
       "      <th></th>\n",
       "      <th></th>\n",
       "      <th></th>\n",
       "      <th></th>\n",
       "      <th></th>\n",
       "      <th></th>\n",
       "      <th></th>\n",
       "      <th></th>\n",
       "      <th></th>\n",
       "      <th></th>\n",
       "      <th></th>\n",
       "      <th></th>\n",
       "      <th></th>\n",
       "      <th></th>\n",
       "    </tr>\n",
       "  </thead>\n",
       "  <tbody>\n",
       "    <tr>\n",
       "      <th>1</th>\n",
       "      <td>Toy Story</td>\n",
       "      <td>1995</td>\n",
       "      <td>0</td>\n",
       "      <td>1</td>\n",
       "      <td>1</td>\n",
       "      <td>1</td>\n",
       "      <td>1</td>\n",
       "      <td>0</td>\n",
       "      <td>0</td>\n",
       "      <td>0</td>\n",
       "      <td>...</td>\n",
       "      <td>0</td>\n",
       "      <td>0</td>\n",
       "      <td>0</td>\n",
       "      <td>0</td>\n",
       "      <td>0</td>\n",
       "      <td>0</td>\n",
       "      <td>0</td>\n",
       "      <td>3.891454</td>\n",
       "      <td>0.917794</td>\n",
       "      <td>2469.0</td>\n",
       "    </tr>\n",
       "    <tr>\n",
       "      <th>2</th>\n",
       "      <td>Jumanji</td>\n",
       "      <td>1995</td>\n",
       "      <td>0</td>\n",
       "      <td>1</td>\n",
       "      <td>0</td>\n",
       "      <td>1</td>\n",
       "      <td>0</td>\n",
       "      <td>0</td>\n",
       "      <td>0</td>\n",
       "      <td>0</td>\n",
       "      <td>...</td>\n",
       "      <td>0</td>\n",
       "      <td>0</td>\n",
       "      <td>0</td>\n",
       "      <td>0</td>\n",
       "      <td>0</td>\n",
       "      <td>0</td>\n",
       "      <td>0</td>\n",
       "      <td>3.231282</td>\n",
       "      <td>0.959175</td>\n",
       "      <td>975.0</td>\n",
       "    </tr>\n",
       "    <tr>\n",
       "      <th>3</th>\n",
       "      <td>Grumpier Old Men</td>\n",
       "      <td>1995</td>\n",
       "      <td>0</td>\n",
       "      <td>0</td>\n",
       "      <td>0</td>\n",
       "      <td>0</td>\n",
       "      <td>1</td>\n",
       "      <td>0</td>\n",
       "      <td>0</td>\n",
       "      <td>0</td>\n",
       "      <td>...</td>\n",
       "      <td>1</td>\n",
       "      <td>0</td>\n",
       "      <td>0</td>\n",
       "      <td>0</td>\n",
       "      <td>0</td>\n",
       "      <td>0</td>\n",
       "      <td>0</td>\n",
       "      <td>3.190355</td>\n",
       "      <td>0.999860</td>\n",
       "      <td>591.0</td>\n",
       "    </tr>\n",
       "    <tr>\n",
       "      <th>4</th>\n",
       "      <td>Waiting to Exhale</td>\n",
       "      <td>1995</td>\n",
       "      <td>0</td>\n",
       "      <td>0</td>\n",
       "      <td>0</td>\n",
       "      <td>0</td>\n",
       "      <td>1</td>\n",
       "      <td>0</td>\n",
       "      <td>0</td>\n",
       "      <td>1</td>\n",
       "      <td>...</td>\n",
       "      <td>1</td>\n",
       "      <td>0</td>\n",
       "      <td>0</td>\n",
       "      <td>0</td>\n",
       "      <td>0</td>\n",
       "      <td>0</td>\n",
       "      <td>0</td>\n",
       "      <td>2.995902</td>\n",
       "      <td>1.031520</td>\n",
       "      <td>122.0</td>\n",
       "    </tr>\n",
       "    <tr>\n",
       "      <th>5</th>\n",
       "      <td>Father of the Bride Part II</td>\n",
       "      <td>1995</td>\n",
       "      <td>0</td>\n",
       "      <td>0</td>\n",
       "      <td>0</td>\n",
       "      <td>0</td>\n",
       "      <td>1</td>\n",
       "      <td>0</td>\n",
       "      <td>0</td>\n",
       "      <td>0</td>\n",
       "      <td>...</td>\n",
       "      <td>0</td>\n",
       "      <td>0</td>\n",
       "      <td>0</td>\n",
       "      <td>0</td>\n",
       "      <td>0</td>\n",
       "      <td>0</td>\n",
       "      <td>0</td>\n",
       "      <td>3.032907</td>\n",
       "      <td>1.034132</td>\n",
       "      <td>547.0</td>\n",
       "    </tr>\n",
       "  </tbody>\n",
       "</table>\n",
       "<p>5 rows × 25 columns</p>\n",
       "</div>"
      ],
      "text/plain": [
       "                               title  year  Action  Adventure  Animation  \\\n",
       "movieId                                                                    \n",
       "1                          Toy Story  1995       0          1          1   \n",
       "2                            Jumanji  1995       0          1          0   \n",
       "3                   Grumpier Old Men  1995       0          0          0   \n",
       "4                  Waiting to Exhale  1995       0          0          0   \n",
       "5        Father of the Bride Part II  1995       0          0          0   \n",
       "\n",
       "         Children  Comedy  Crime  Documentary  Drama  ...  Romance  Sci-Fi  \\\n",
       "movieId                                               ...                    \n",
       "1               1       1      0            0      0  ...        0       0   \n",
       "2               1       0      0            0      0  ...        0       0   \n",
       "3               0       1      0            0      0  ...        1       0   \n",
       "4               0       1      0            0      1  ...        1       0   \n",
       "5               0       1      0            0      0  ...        0       0   \n",
       "\n",
       "         Thriller  War  Western  (no genres listed)  IMAX  rating_mean  \\\n",
       "movieId                                                                  \n",
       "1               0    0        0                   0     0     3.891454   \n",
       "2               0    0        0                   0     0     3.231282   \n",
       "3               0    0        0                   0     0     3.190355   \n",
       "4               0    0        0                   0     0     2.995902   \n",
       "5               0    0        0                   0     0     3.032907   \n",
       "\n",
       "         rating_std  rating_count  \n",
       "movieId                            \n",
       "1          0.917794        2469.0  \n",
       "2          0.959175         975.0  \n",
       "3          0.999860         591.0  \n",
       "4          1.031520         122.0  \n",
       "5          1.034132         547.0  \n",
       "\n",
       "[5 rows x 25 columns]"
      ]
     },
     "execution_count": 16,
     "metadata": {},
     "output_type": "execute_result"
    }
   ],
   "source": [
    "movies_df.head()"
   ]
  },
  {
   "cell_type": "code",
   "execution_count": 17,
   "metadata": {
    "execution": {
     "iopub.status.busy": "2023-05-06T23:07:05.394989Z",
     "iopub.status.idle": "2023-05-06T23:07:05.395774Z",
     "shell.execute_reply": "2023-05-06T23:07:05.395533Z",
     "shell.execute_reply.started": "2023-05-06T23:07:05.395509Z"
    }
   },
   "outputs": [],
   "source": [
    "movies_df['rating_mean'] = movies_df.rating_mean.fillna(movies_df.rating_mean.mean())\n",
    "movies_df['rating_std'] = movies_df.rating_std.fillna(0)\n",
    "movies_df['rating_count'] = movies_df.rating_count.fillna(0)"
   ]
  },
  {
   "cell_type": "code",
   "execution_count": 18,
   "metadata": {
    "execution": {
     "iopub.status.busy": "2023-05-06T23:07:05.397088Z",
     "iopub.status.idle": "2023-05-06T23:07:05.397835Z",
     "shell.execute_reply": "2023-05-06T23:07:05.397600Z",
     "shell.execute_reply.started": "2023-05-06T23:07:05.397575Z"
    }
   },
   "outputs": [
    {
     "name": "stdout",
     "output_type": "stream",
     "text": [
      "<class 'pandas.core.frame.DataFrame'>\n",
      "Int64Index: 58098 entries, 1 to 193886\n",
      "Data columns (total 25 columns):\n",
      " #   Column              Non-Null Count  Dtype  \n",
      "---  ------              --------------  -----  \n",
      " 0   title               58098 non-null  object \n",
      " 1   year                58098 non-null  int32  \n",
      " 2   Action              58098 non-null  int32  \n",
      " 3   Adventure           58098 non-null  int32  \n",
      " 4   Animation           58098 non-null  int32  \n",
      " 5   Children            58098 non-null  int32  \n",
      " 6   Comedy              58098 non-null  int32  \n",
      " 7   Crime               58098 non-null  int32  \n",
      " 8   Documentary         58098 non-null  int32  \n",
      " 9   Drama               58098 non-null  int32  \n",
      " 10  Fantasy             58098 non-null  int32  \n",
      " 11  Film-Noir           58098 non-null  int32  \n",
      " 12  Horror              58098 non-null  int32  \n",
      " 13  Musical             58098 non-null  int32  \n",
      " 14  Mystery             58098 non-null  int32  \n",
      " 15  Romance             58098 non-null  int32  \n",
      " 16  Sci-Fi              58098 non-null  int32  \n",
      " 17  Thriller            58098 non-null  int32  \n",
      " 18  War                 58098 non-null  int32  \n",
      " 19  Western             58098 non-null  int32  \n",
      " 20  (no genres listed)  58098 non-null  int32  \n",
      " 21  IMAX                58098 non-null  int32  \n",
      " 22  rating_mean         58098 non-null  float64\n",
      " 23  rating_std          58098 non-null  float64\n",
      " 24  rating_count        58098 non-null  float64\n",
      "dtypes: float64(3), int32(21), object(1)\n",
      "memory usage: 8.9+ MB\n"
     ]
    }
   ],
   "source": [
    "movies_df.info()"
   ]
  },
  {
   "cell_type": "code",
   "execution_count": 49,
   "metadata": {},
   "outputs": [],
   "source": [
    "movies_df.to_csv('ml-latest/movies_mod.csv')"
   ]
  },
  {
   "cell_type": "markdown",
   "metadata": {},
   "source": [
    "## Обработка датасета с тегами"
   ]
  },
  {
   "cell_type": "code",
   "execution_count": 3,
   "metadata": {},
   "outputs": [
    {
     "data": {
      "text/plain": [
       "array(['007', '007 (series)', '18th century', ..., 'wwii', 'zombie',\n",
       "       'zombies'], dtype=object)"
      ]
     },
     "execution_count": 3,
     "metadata": {},
     "output_type": "execute_result"
    }
   ],
   "source": [
    "genome_names = pd.read_csv('ml-latest/genome-tags.csv')\n",
    "genome_names.tag.values"
   ]
  },
  {
   "cell_type": "code",
   "execution_count": 6,
   "metadata": {},
   "outputs": [],
   "source": [
    "genome_scores = pd.read_csv('ml-latest/genome-scores.csv')\n",
    "genome_scores = genome_scores.pivot(index='movieId', columns='tagId', values='relevance')"
   ]
  },
  {
   "cell_type": "code",
   "execution_count": 9,
   "metadata": {},
   "outputs": [
    {
     "data": {
      "text/html": [
       "<div>\n",
       "<style scoped>\n",
       "    .dataframe tbody tr th:only-of-type {\n",
       "        vertical-align: middle;\n",
       "    }\n",
       "\n",
       "    .dataframe tbody tr th {\n",
       "        vertical-align: top;\n",
       "    }\n",
       "\n",
       "    .dataframe thead th {\n",
       "        text-align: right;\n",
       "    }\n",
       "</style>\n",
       "<table border=\"1\" class=\"dataframe\">\n",
       "  <thead>\n",
       "    <tr style=\"text-align: right;\">\n",
       "      <th></th>\n",
       "      <th>007</th>\n",
       "      <th>007 (series)</th>\n",
       "      <th>18th century</th>\n",
       "      <th>1920s</th>\n",
       "      <th>1930s</th>\n",
       "      <th>1950s</th>\n",
       "      <th>1960s</th>\n",
       "      <th>1970s</th>\n",
       "      <th>1980s</th>\n",
       "      <th>19th century</th>\n",
       "      <th>...</th>\n",
       "      <th>world politics</th>\n",
       "      <th>world war i</th>\n",
       "      <th>world war ii</th>\n",
       "      <th>writer's life</th>\n",
       "      <th>writers</th>\n",
       "      <th>writing</th>\n",
       "      <th>wuxia</th>\n",
       "      <th>wwii</th>\n",
       "      <th>zombie</th>\n",
       "      <th>zombies</th>\n",
       "    </tr>\n",
       "    <tr>\n",
       "      <th>movieId</th>\n",
       "      <th></th>\n",
       "      <th></th>\n",
       "      <th></th>\n",
       "      <th></th>\n",
       "      <th></th>\n",
       "      <th></th>\n",
       "      <th></th>\n",
       "      <th></th>\n",
       "      <th></th>\n",
       "      <th></th>\n",
       "      <th></th>\n",
       "      <th></th>\n",
       "      <th></th>\n",
       "      <th></th>\n",
       "      <th></th>\n",
       "      <th></th>\n",
       "      <th></th>\n",
       "      <th></th>\n",
       "      <th></th>\n",
       "      <th></th>\n",
       "      <th></th>\n",
       "    </tr>\n",
       "  </thead>\n",
       "  <tbody>\n",
       "    <tr>\n",
       "      <th>1</th>\n",
       "      <td>0.02900</td>\n",
       "      <td>0.02375</td>\n",
       "      <td>0.05425</td>\n",
       "      <td>0.06875</td>\n",
       "      <td>0.16000</td>\n",
       "      <td>0.19525</td>\n",
       "      <td>0.07600</td>\n",
       "      <td>0.25200</td>\n",
       "      <td>0.22750</td>\n",
       "      <td>0.02400</td>\n",
       "      <td>...</td>\n",
       "      <td>0.03775</td>\n",
       "      <td>0.02250</td>\n",
       "      <td>0.04075</td>\n",
       "      <td>0.03175</td>\n",
       "      <td>0.12950</td>\n",
       "      <td>0.04550</td>\n",
       "      <td>0.02000</td>\n",
       "      <td>0.03850</td>\n",
       "      <td>0.09125</td>\n",
       "      <td>0.02225</td>\n",
       "    </tr>\n",
       "    <tr>\n",
       "      <th>2</th>\n",
       "      <td>0.03625</td>\n",
       "      <td>0.03625</td>\n",
       "      <td>0.08275</td>\n",
       "      <td>0.08175</td>\n",
       "      <td>0.10200</td>\n",
       "      <td>0.06900</td>\n",
       "      <td>0.05775</td>\n",
       "      <td>0.10100</td>\n",
       "      <td>0.08225</td>\n",
       "      <td>0.05250</td>\n",
       "      <td>...</td>\n",
       "      <td>0.04775</td>\n",
       "      <td>0.02050</td>\n",
       "      <td>0.01650</td>\n",
       "      <td>0.02450</td>\n",
       "      <td>0.13050</td>\n",
       "      <td>0.02700</td>\n",
       "      <td>0.01825</td>\n",
       "      <td>0.01225</td>\n",
       "      <td>0.09925</td>\n",
       "      <td>0.01850</td>\n",
       "    </tr>\n",
       "    <tr>\n",
       "      <th>3</th>\n",
       "      <td>0.04150</td>\n",
       "      <td>0.04950</td>\n",
       "      <td>0.03000</td>\n",
       "      <td>0.09525</td>\n",
       "      <td>0.04525</td>\n",
       "      <td>0.05925</td>\n",
       "      <td>0.04000</td>\n",
       "      <td>0.14150</td>\n",
       "      <td>0.04075</td>\n",
       "      <td>0.03200</td>\n",
       "      <td>...</td>\n",
       "      <td>0.05800</td>\n",
       "      <td>0.02375</td>\n",
       "      <td>0.03550</td>\n",
       "      <td>0.02125</td>\n",
       "      <td>0.12775</td>\n",
       "      <td>0.03250</td>\n",
       "      <td>0.01625</td>\n",
       "      <td>0.02125</td>\n",
       "      <td>0.09525</td>\n",
       "      <td>0.01750</td>\n",
       "    </tr>\n",
       "    <tr>\n",
       "      <th>4</th>\n",
       "      <td>0.03350</td>\n",
       "      <td>0.03675</td>\n",
       "      <td>0.04275</td>\n",
       "      <td>0.02625</td>\n",
       "      <td>0.05250</td>\n",
       "      <td>0.03025</td>\n",
       "      <td>0.02425</td>\n",
       "      <td>0.07475</td>\n",
       "      <td>0.03750</td>\n",
       "      <td>0.02400</td>\n",
       "      <td>...</td>\n",
       "      <td>0.04900</td>\n",
       "      <td>0.03275</td>\n",
       "      <td>0.02125</td>\n",
       "      <td>0.03675</td>\n",
       "      <td>0.15925</td>\n",
       "      <td>0.05225</td>\n",
       "      <td>0.01500</td>\n",
       "      <td>0.01600</td>\n",
       "      <td>0.09175</td>\n",
       "      <td>0.01500</td>\n",
       "    </tr>\n",
       "    <tr>\n",
       "      <th>5</th>\n",
       "      <td>0.04050</td>\n",
       "      <td>0.05175</td>\n",
       "      <td>0.03600</td>\n",
       "      <td>0.04625</td>\n",
       "      <td>0.05500</td>\n",
       "      <td>0.08000</td>\n",
       "      <td>0.02150</td>\n",
       "      <td>0.07375</td>\n",
       "      <td>0.02825</td>\n",
       "      <td>0.02375</td>\n",
       "      <td>...</td>\n",
       "      <td>0.05375</td>\n",
       "      <td>0.02625</td>\n",
       "      <td>0.02050</td>\n",
       "      <td>0.02125</td>\n",
       "      <td>0.17725</td>\n",
       "      <td>0.02050</td>\n",
       "      <td>0.01500</td>\n",
       "      <td>0.01550</td>\n",
       "      <td>0.08875</td>\n",
       "      <td>0.01575</td>\n",
       "    </tr>\n",
       "  </tbody>\n",
       "</table>\n",
       "<p>5 rows × 1128 columns</p>\n",
       "</div>"
      ],
      "text/plain": [
       "             007  007 (series)  18th century    1920s    1930s    1950s  \\\n",
       "movieId                                                                   \n",
       "1        0.02900       0.02375       0.05425  0.06875  0.16000  0.19525   \n",
       "2        0.03625       0.03625       0.08275  0.08175  0.10200  0.06900   \n",
       "3        0.04150       0.04950       0.03000  0.09525  0.04525  0.05925   \n",
       "4        0.03350       0.03675       0.04275  0.02625  0.05250  0.03025   \n",
       "5        0.04050       0.05175       0.03600  0.04625  0.05500  0.08000   \n",
       "\n",
       "           1960s    1970s    1980s  19th century  ...  world politics  \\\n",
       "movieId                                           ...                   \n",
       "1        0.07600  0.25200  0.22750       0.02400  ...         0.03775   \n",
       "2        0.05775  0.10100  0.08225       0.05250  ...         0.04775   \n",
       "3        0.04000  0.14150  0.04075       0.03200  ...         0.05800   \n",
       "4        0.02425  0.07475  0.03750       0.02400  ...         0.04900   \n",
       "5        0.02150  0.07375  0.02825       0.02375  ...         0.05375   \n",
       "\n",
       "         world war i  world war ii  writer's life  writers  writing    wuxia  \\\n",
       "movieId                                                                        \n",
       "1            0.02250       0.04075        0.03175  0.12950  0.04550  0.02000   \n",
       "2            0.02050       0.01650        0.02450  0.13050  0.02700  0.01825   \n",
       "3            0.02375       0.03550        0.02125  0.12775  0.03250  0.01625   \n",
       "4            0.03275       0.02125        0.03675  0.15925  0.05225  0.01500   \n",
       "5            0.02625       0.02050        0.02125  0.17725  0.02050  0.01500   \n",
       "\n",
       "            wwii   zombie  zombies  \n",
       "movieId                             \n",
       "1        0.03850  0.09125  0.02225  \n",
       "2        0.01225  0.09925  0.01850  \n",
       "3        0.02125  0.09525  0.01750  \n",
       "4        0.01600  0.09175  0.01500  \n",
       "5        0.01550  0.08875  0.01575  \n",
       "\n",
       "[5 rows x 1128 columns]"
      ]
     },
     "execution_count": 9,
     "metadata": {},
     "output_type": "execute_result"
    }
   ],
   "source": [
    "genome_scores.columns = genome_names.tag.values\n",
    "genome_scores.head()"
   ]
  },
  {
   "cell_type": "code",
   "execution_count": 10,
   "metadata": {},
   "outputs": [
    {
     "name": "stdout",
     "output_type": "stream",
     "text": [
      "<class 'pandas.core.frame.DataFrame'>\n",
      "Int64Index: 13176 entries, 1 to 187595\n",
      "Columns: 1128 entries, 007 to zombies\n",
      "dtypes: float64(1128)\n",
      "memory usage: 113.5 MB\n"
     ]
    }
   ],
   "source": [
    "genome_scores.info()"
   ]
  },
  {
   "cell_type": "code",
   "execution_count": 13,
   "metadata": {},
   "outputs": [],
   "source": [
    "genome_scores.to_csv('ml-latest/genome-pivot.csv')"
   ]
  },
  {
   "cell_type": "markdown",
   "metadata": {},
   "source": [
    "## Визуализация данных"
   ]
  },
  {
   "cell_type": "markdown",
   "metadata": {},
   "source": [
    "Распределение средних оценок фильмов"
   ]
  },
  {
   "cell_type": "code",
   "execution_count": 27,
   "metadata": {},
   "outputs": [
    {
     "data": {
      "image/png": "[encoded data removed]",
      "text/plain": [
       "<Figure size 640x480 with 1 Axes>"
      ]
     },
     "metadata": {},
     "output_type": "display_data"
    }
   ],
   "source": [
    "movies_df.rating_mean.hist(bins=10)\n",
    "plt.grid(False)\n",
    "plt.show()"
   ]
  },
  {
   "cell_type": "markdown",
   "metadata": {},
   "source": [
    "Распределение жанров фильмов"
   ]
  },
  {
   "cell_type": "code",
   "execution_count": 47,
   "metadata": {},
   "outputs": [
    {
     "data": {
      "image/png": "[encoded data removed]",
      "text/plain": [
       "<Figure size 1200x600 with 1 Axes>"
      ]
     },
     "metadata": {},
     "output_type": "display_data"
    }
   ],
   "source": [
    "plt.figure(figsize=(12,6))\n",
    "plt.bar(movies_df[genres_list].sum().index, movies_df[genres_list].sum().values)\n",
    "plt.xticks(rotation = 45)\n",
    "plt.show()"
   ]
  }
 ],
 "metadata": {
  "kernelspec": {
   "display_name": "Python 3 (ipykernel)",
   "language": "python",
   "name": "python3"
  },
  "language_info": {
   "codemirror_mode": {
    "name": "ipython",
    "version": 3
   },
   "file_extension": ".py",
   "mimetype": "text/x-python",
   "name": "python",
   "nbconvert_exporter": "python",
   "pygments_lexer": "ipython3",
   "version": "3.9.13"
  }
 },
 "nbformat": 4,
 "nbformat_minor": 4
}
